{
 "cells": [
  {
   "cell_type": "markdown",
   "id": "db912166",
   "metadata": {},
   "source": [
    "## Pair Programming\n",
    "#### This file is another version solution, topic: breakfast, lunch, dinner.\n",
    "\n",
    "#### For weekly cross check and efficient code review, we wrote two versions code, same structure with different methods and examples. Thus not only help us improve our programming level, but also hope to provide more references for other developers."
   ]
  },
  {
   "cell_type": "code",
   "execution_count": 1,
   "id": "9d717cd3",
   "metadata": {},
   "outputs": [],
   "source": [
    "import re\n",
    "import json\n",
    "from csv import reader, writer, DictWriter\n",
    "import numpy as np\n",
    "import pandas as pd\n",
    "from bokeh.plotting import figure, show\n",
    "from bokeh.transform import factor_cmap, factor_mark\n",
    "from bokeh.models import ColumnDataSource"
   ]
  },
  {
   "cell_type": "markdown",
   "id": "70b4bd08",
   "metadata": {},
   "source": [
    "# PART 1 - Working with Texts and Sentiments"
   ]
  },
  {
   "cell_type": "markdown",
   "id": "135f6df2",
   "metadata": {},
   "source": [
    "## 1A - Parsing the Raw Tweets Texts"
   ]
  },
  {
   "cell_type": "code",
   "execution_count": 2,
   "id": "27e75557",
   "metadata": {},
   "outputs": [],
   "source": [
    "# takes in a string of text as its parameter \n",
    "# returns a list of the words in that string\n",
    "def extract_words(text):\n",
    "    pat = '[a-zA-Z]+'\n",
    "    res = re.findall(pat,text)\n",
    "    return [s.lower() for s in res]"
   ]
  },
  {
   "cell_type": "code",
   "execution_count": 3,
   "id": "49107868",
   "metadata": {},
   "outputs": [
    {
     "data": {
      "text/plain": [
       "['eating',\n",
       " 'noddles',\n",
       " 'for',\n",
       " 'dinner',\n",
       " 'i',\n",
       " 'feel',\n",
       " 'like',\n",
       " 'i',\n",
       " 'm',\n",
       " 'back',\n",
       " 'in',\n",
       " 'college',\n",
       " 'lol']"
      ]
     },
     "execution_count": 3,
     "metadata": {},
     "output_type": "execute_result"
    }
   ],
   "source": [
    "extract_words(\"Eating noddles for dinner. I feel like I\\u2019m back in college lol\")"
   ]
  },
  {
   "cell_type": "markdown",
   "id": "9a677941",
   "metadata": {},
   "source": [
    "## 1B - Using an Objective Sentiment Dictionary"
   ]
  },
  {
   "cell_type": "code",
   "execution_count": 4,
   "id": "c74074bd",
   "metadata": {},
   "outputs": [],
   "source": [
    "# takes in as a parameter -- a file containing word sentiment scores (e.g.:AFINN-111.csv)\n",
    "# return a dictionary whose keys are the words in and whose values are the numeric sentiment scores of those words\n",
    "def load_sentiments(senti_file):\n",
    "    f = open(senti_file, 'r')\n",
    "    read = reader(f)\n",
    "    result = {}\n",
    "\n",
    "    for row in read:\n",
    "        result[row[0]] = float(row[1])\n",
    "\n",
    "    return result    "
   ]
  },
  {
   "cell_type": "code",
   "execution_count": 5,
   "id": "9dd2b379",
   "metadata": {},
   "outputs": [
    {
     "name": "stdout",
     "output_type": "stream",
     "text": [
      "E:\\jupyter_files_save\\DAMG_6105\\Twitter_Sentiment_Analysis\n"
     ]
    }
   ],
   "source": [
    "location = %pwd\n",
    "print(location)"
   ]
  },
  {
   "cell_type": "code",
   "execution_count": 6,
   "id": "c63eaed9",
   "metadata": {},
   "outputs": [
    {
     "name": "stdout",
     "output_type": "stream",
     "text": [
      "E:\\jupyter_files_save\\DAMG_6105\\Twitter_Sentiment_Analysis\\AFINN-111.csv\n"
     ]
    }
   ],
   "source": [
    "sentiment_file = location + \"\\AFINN-111.csv\"\n",
    "print(sentiment_file)"
   ]
  },
  {
   "cell_type": "code",
   "execution_count": 7,
   "id": "44539b61",
   "metadata": {},
   "outputs": [
    {
     "name": "stdout",
     "output_type": "stream",
     "text": [
      "{'abandon': -2.0, 'abandoned': -2.0, 'abandons': -2.0, 'abducted': -2.0, 'abduction': -2.0, 'abductions': -2.0, 'abhor': -3.0, 'abhorred': -3.0, 'abhorrent': -3.0, 'abhors': -3.0, 'abilities': 2.0, 'ability': 2.0, 'aboard': 1.0, 'absentee': -1.0, 'absentees': -1.0, 'absolve': 2.0, 'absolved': 2.0, 'absolves': 2.0, 'absolving': 2.0, 'absorbed': 1.0, 'abuse': -3.0, 'abused': -3.0, 'abuses': -3.0, 'abusive': -3.0, 'accept': 1.0, 'accepted': 1.0, 'accepting': 1.0, 'accepts': 1.0, 'accident': -2.0, 'accidental': -2.0, 'accidentally': -2.0, 'accidents': -2.0, 'accomplish': 2.0, 'accomplished': 2.0, 'accomplishes': 2.0, 'accusation': -2.0, 'accusations': -2.0, 'accuse': -2.0, 'accused': -2.0, 'accuses': -2.0, 'accusing': -2.0, 'ache': -2.0, 'achievable': 1.0, 'aching': -2.0, 'acquit': 2.0, 'acquits': 2.0, 'acquitted': 2.0, 'acquitting': 2.0, 'acrimonious': -3.0, 'active': 1.0, 'adequate': 1.0, 'admire': 3.0, 'admired': 3.0, 'admires': 3.0, 'admiring': 3.0, 'admit': -1.0, 'admits': -1.0, 'admitted': -1.0, 'admonish': -2.0, 'admonished': -2.0, 'adopt': 1.0, 'adopts': 1.0, 'adorable': 3.0, 'adore': 3.0, 'adored': 3.0, 'adores': 3.0, 'advanced': 1.0, 'advantage': 2.0, 'advantages': 2.0, 'adventure': 2.0, 'adventures': 2.0, 'adventurous': 2.0, 'affected': -1.0, 'affection': 3.0, 'affectionate': 3.0, 'afflicted': -1.0, 'affronted': -1.0, 'afraid': -2.0, 'aggravate': -2.0, 'aggravated': -2.0, 'aggravates': -2.0, 'aggravating': -2.0, 'aggression': -2.0, 'aggressions': -2.0, 'aggressive': -2.0, 'aghast': -2.0, 'agog': 2.0, 'agonise': -3.0, 'agonised': -3.0, 'agonises': -3.0, 'agonising': -3.0, 'agonize': -3.0, 'agonized': -3.0, 'agonizes': -3.0, 'agonizing': -3.0, 'agree': 1.0, 'agreeable': 2.0, 'agreed': 1.0, 'agreement': 1.0, 'agrees': 1.0, 'alarm': -2.0, 'alarmed': -2.0, 'alarmist': -2.0, 'alarmists': -2.0, 'alas': -1.0, 'alert': -1.0, 'alienation': -2.0, 'alive': 1.0, 'allergic': -2.0, 'allow': 1.0, 'alone': -2.0, 'amaze': 2.0, 'amazed': 2.0, 'amazes': 2.0, 'amazing': 4.0, 'ambitious': 2.0, 'ambivalent': -1.0, 'amuse': 3.0, 'amused': 3.0, 'amusement': 3.0, 'amusements': 3.0, 'anger': -3.0, 'angers': -3.0, 'angry': -3.0, 'anguish': -3.0, 'anguished': -3.0, 'animosity': -2.0, 'annoy': -2.0, 'annoyance': -2.0, 'annoyed': -2.0, 'annoying': -2.0, 'annoys': -2.0, 'antagonistic': -2.0, 'anti': -1.0, 'anticipation': 1.0, 'anxiety': -2.0, 'anxious': -2.0, 'apathetic': -3.0, 'apathy': -3.0, 'apeshit': -3.0, 'apocalyptic': -2.0, 'apologise': -1.0, 'apologised': -1.0, 'apologises': -1.0, 'apologising': -1.0, 'apologize': -1.0, 'apologized': -1.0, 'apologizes': -1.0, 'apologizing': -1.0, 'apology': -1.0, 'appalled': -2.0, 'appalling': -2.0, 'appease': 2.0, 'appeased': 2.0, 'appeases': 2.0, 'appeasing': 2.0, 'applaud': 2.0, 'applauded': 2.0, 'applauding': 2.0, 'applauds': 2.0, 'applause': 2.0, 'appreciate': 2.0, 'appreciated': 2.0, 'appreciates': 2.0, 'appreciating': 2.0, 'appreciation': 2.0, 'apprehensive': -2.0, 'approval': 2.0, 'approved': 2.0, 'approves': 2.0, 'ardent': 1.0, 'arrest': -2.0, 'arrested': -3.0, 'arrests': -2.0, 'arrogant': -2.0, 'ashame': -2.0, 'ashamed': -2.0, 'ass': -4.0, 'assassination': -3.0, 'assassinations': -3.0, 'asset': 2.0, 'assets': 2.0, 'assfucking': -4.0, 'asshole': -4.0, 'astonished': 2.0, 'astound': 3.0, 'astounded': 3.0, 'astounding': 3.0, 'astoundingly': 3.0, 'astounds': 3.0, 'attack': -1.0, 'attacked': -1.0, 'attacking': -1.0, 'attacks': -1.0, 'attract': 1.0, 'attracted': 1.0, 'attracting': 2.0, 'attraction': 2.0, 'attractions': 2.0, 'attracts': 1.0, 'audacious': 3.0, 'authority': 1.0, 'avert': -1.0, 'averted': -1.0, 'averts': -1.0, 'avid': 2.0, 'avoid': -1.0, 'avoided': -1.0, 'avoids': -1.0, 'await': -1.0, 'awaited': -1.0, 'awaits': -1.0, 'award': 3.0, 'awarded': 3.0, 'awards': 3.0, 'awesome': 4.0, 'awful': -3.0, 'awkward': -2.0, 'axe': -1.0, 'axed': -1.0, 'backed': 1.0, 'backing': 2.0, 'backs': 1.0, 'bad': -3.0, 'badass': -3.0, 'badly': -3.0, 'bailout': -2.0, 'bamboozle': -2.0, 'bamboozled': -2.0, 'bamboozles': -2.0, 'ban': -2.0, 'banish': -1.0, 'bankrupt': -3.0, 'bankster': -3.0, 'banned': -2.0, 'bargain': 2.0, 'barrier': -2.0, 'bastard': -5.0, 'bastards': -5.0, 'battle': -1.0, 'battles': -1.0, 'beaten': -2.0, 'beatific': 3.0, 'beating': -1.0, 'beauties': 3.0, 'beautiful': 3.0, 'beautifully': 3.0, 'beautify': 3.0, 'belittle': -2.0, 'belittled': -2.0, 'beloved': 3.0, 'benefit': 2.0, 'benefits': 2.0, 'benefitted': 2.0, 'benefitting': 2.0, 'bereave': -2.0, 'bereaved': -2.0, 'bereaves': -2.0, 'bereaving': -2.0, 'best': 3.0, 'betray': -3.0, 'betrayal': -3.0, 'betrayed': -3.0, 'betraying': -3.0, 'betrays': -3.0, 'better': 2.0, 'bias': -1.0, 'biased': -2.0, 'big': 1.0, 'bitch': -5.0, 'bitches': -5.0, 'bitter': -2.0, 'bitterly': -2.0, 'bizarre': -2.0, 'blah': -2.0, 'blame': -2.0, 'blamed': -2.0, 'blames': -2.0, 'blaming': -2.0, 'bless': 2.0, 'blesses': 2.0, 'blessing': 3.0, 'blind': -1.0, 'bliss': 3.0, 'blissful': 3.0, 'blithe': 2.0, 'block': -1.0, 'blockbuster': 3.0, 'blocked': -1.0, 'blocking': -1.0, 'blocks': -1.0, 'bloody': -3.0, 'blurry': -2.0, 'boastful': -2.0, 'bold': 2.0, 'boldly': 2.0, 'bomb': -1.0, 'boost': 1.0, 'boosted': 1.0, 'boosting': 1.0, 'boosts': 1.0, 'bore': -2.0, 'bored': -2.0, 'boring': -3.0, 'bother': -2.0, 'bothered': -2.0, 'bothers': -2.0, 'bothersome': -2.0, 'boycott': -2.0, 'boycotted': -2.0, 'boycotting': -2.0, 'boycotts': -2.0, 'brainwashing': -3.0, 'brave': 2.0, 'breakthrough': 3.0, 'breathtaking': 5.0, 'bribe': -3.0, 'bright': 1.0, 'brightest': 2.0, 'brightness': 1.0, 'brilliant': 4.0, 'brisk': 2.0, 'broke': -1.0, 'broken': -1.0, 'brooding': -2.0, 'bullied': -2.0, 'bullshit': -4.0, 'bully': -2.0, 'bullying': -2.0, 'bummer': -2.0, 'buoyant': 2.0, 'burden': -2.0, 'burdened': -2.0, 'burdening': -2.0, 'burdens': -2.0, 'calm': 2.0, 'calmed': 2.0, 'calming': 2.0, 'calms': 2.0, \"can't stand\": -3.0, 'cancel': -1.0, 'cancelled': -1.0, 'cancelling': -1.0, 'cancels': -1.0, 'cancer': -1.0, 'capable': 1.0, 'captivated': 3.0, 'care': 2.0, 'carefree': 1.0, 'careful': 2.0, 'carefully': 2.0, 'careless': -2.0, 'cares': 2.0, 'cashing in': -2.0, 'casualty': -2.0, 'catastrophe': -3.0, 'catastrophic': -4.0, 'cautious': -1.0, 'celebrate': 3.0, 'celebrated': 3.0, 'celebrates': 3.0, 'celebrating': 3.0, 'censor': -2.0, 'censored': -2.0, 'censors': -2.0, 'certain': 1.0, 'chagrin': -2.0, 'chagrined': -2.0, 'challenge': -1.0, 'chance': 2.0, 'chances': 2.0, 'chaos': -2.0, 'chaotic': -2.0, 'charged': -3.0, 'charges': -2.0, 'charm': 3.0, 'charming': 3.0, 'charmless': -3.0, 'chastise': -3.0, 'chastised': -3.0, 'chastises': -3.0, 'chastising': -3.0, 'cheat': -3.0, 'cheated': -3.0, 'cheater': -3.0, 'cheaters': -3.0, 'cheats': -3.0, 'cheer': 2.0, 'cheered': 2.0, 'cheerful': 2.0, 'cheering': 2.0, 'cheerless': -2.0, 'cheers': 2.0, 'cheery': 3.0, 'cherish': 2.0, 'cherished': 2.0, 'cherishes': 2.0, 'cherishing': 2.0, 'chic': 2.0, 'childish': -2.0, 'chilling': -1.0, 'choke': -2.0, 'choked': -2.0, 'chokes': -2.0, 'choking': -2.0, 'clarifies': 2.0, 'clarity': 2.0, 'clash': -2.0, 'classy': 3.0, 'clean': 2.0, 'cleaner': 2.0, 'clear': 1.0, 'cleared': 1.0, 'clearly': 1.0, 'clears': 1.0, 'clever': 2.0, 'clouded': -1.0, 'clueless': -2.0, 'cock': -5.0, 'cocksucker': -5.0, 'cocksuckers': -5.0, 'cocky': -2.0, 'coerced': -2.0, 'collapse': -2.0, 'collapsed': -2.0, 'collapses': -2.0, 'collapsing': -2.0, 'collide': -1.0, 'collides': -1.0, 'colliding': -1.0, 'collision': -2.0, 'collisions': -2.0, 'colluding': -3.0, 'combat': -1.0, 'combats': -1.0, 'comedy': 1.0, 'comfort': 2.0, 'comfortable': 2.0, 'comforting': 2.0, 'comforts': 2.0, 'commend': 2.0, 'commended': 2.0, 'commit': 1.0, 'commitment': 2.0, 'commits': 1.0, 'committed': 1.0, 'committing': 1.0, 'compassionate': 2.0, 'compelled': 1.0, 'competent': 2.0, 'competitive': 2.0, 'complacent': -2.0, 'complain': -2.0, 'complained': -2.0, 'complains': -2.0, 'comprehensive': 2.0, 'conciliate': 2.0, 'conciliated': 2.0, 'conciliates': 2.0, 'conciliating': 2.0, 'condemn': -2.0, 'condemnation': -2.0, 'condemned': -2.0, 'condemns': -2.0, 'confidence': 2.0, 'confident': 2.0, 'conflict': -2.0, 'conflicting': -2.0, 'conflictive': -2.0, 'conflicts': -2.0, 'confuse': -2.0, 'confused': -2.0, 'confusing': -2.0, 'congrats': 2.0, 'congratulate': 2.0, 'congratulation': 2.0, 'congratulations': 2.0, 'consent': 2.0, 'consents': 2.0, 'consolable': 2.0, 'conspiracy': -3.0, 'constrained': -2.0, 'contagion': -2.0, 'contagions': -2.0, 'contagious': -1.0, 'contempt': -2.0, 'contemptuous': -2.0, 'contemptuously': -2.0, 'contend': -1.0, 'contender': -1.0, 'contending': -1.0, 'contentious': -2.0, 'contestable': -2.0, 'controversial': -2.0, 'controversially': -2.0, 'convince': 1.0, 'convinced': 1.0, 'convinces': 1.0, 'convivial': 2.0, 'cool': 1.0, 'cool stuff': 3.0, 'cornered': -2.0, 'corpse': -1.0, 'costly': -2.0, 'courage': 2.0, 'courageous': 2.0, 'courteous': 2.0, 'courtesy': 2.0, 'cover-up': -3.0, 'coward': -2.0, 'cowardly': -2.0, 'coziness': 2.0, 'cramp': -1.0, 'crap': -3.0, 'crash': -2.0, 'crazier': -2.0, 'craziest': -2.0, 'crazy': -2.0, 'creative': 2.0, 'crestfallen': -2.0, 'cried': -2.0, 'cries': -2.0, 'crime': -3.0, 'criminal': -3.0, 'criminals': -3.0, 'crisis': -3.0, 'critic': -2.0, 'criticism': -2.0, 'criticize': -2.0, 'criticized': -2.0, 'criticizes': -2.0, 'criticizing': -2.0, 'critics': -2.0, 'cruel': -3.0, 'cruelty': -3.0, 'crush': -1.0, 'crushed': -2.0, 'crushes': -1.0, 'crushing': -1.0, 'cry': -1.0, 'crying': -2.0, 'cunt': -5.0, 'curious': 1.0, 'curse': -1.0, 'cut': -1.0, 'cute': 2.0, 'cuts': -1.0, 'cutting': -1.0, 'cynic': -2.0, 'cynical': -2.0, 'cynicism': -2.0, 'damage': -3.0, 'damages': -3.0, 'damn': -4.0, 'damned': -4.0, 'damnit': -4.0, 'danger': -2.0, 'daredevil': 2.0, 'daring': 2.0, 'darkest': -2.0, 'darkness': -1.0, 'dauntless': 2.0, 'dead': -3.0, 'deadlock': -2.0, 'deafening': -1.0, 'dear': 2.0, 'dearly': 3.0, 'death': -2.0, 'debonair': 2.0, 'debt': -2.0, 'deceit': -3.0, 'deceitful': -3.0, 'deceive': -3.0, 'deceived': -3.0, 'deceives': -3.0, 'deceiving': -3.0, 'deception': -3.0, 'decisive': 1.0, 'dedicated': 2.0, 'defeated': -2.0, 'defect': -3.0, 'defects': -3.0, 'defender': 2.0, 'defenders': 2.0, 'defenseless': -2.0, 'defer': -1.0, 'deferring': -1.0, 'defiant': -1.0, 'deficit': -2.0, 'degrade': -2.0, 'degraded': -2.0, 'degrades': -2.0, 'dehumanize': -2.0, 'dehumanized': -2.0, 'dehumanizes': -2.0, 'dehumanizing': -2.0, 'deject': -2.0, 'dejected': -2.0, 'dejecting': -2.0, 'dejects': -2.0, 'delay': -1.0, 'delayed': -1.0, 'delight': 3.0, 'delighted': 3.0, 'delighting': 3.0, 'delights': 3.0, 'demand': -1.0, 'demanded': -1.0, 'demanding': -1.0, 'demands': -1.0, 'demonstration': -1.0, 'demoralized': -2.0, 'denied': -2.0, 'denier': -2.0, 'deniers': -2.0, 'denies': -2.0, 'denounce': -2.0, 'denounces': -2.0, 'deny': -2.0, 'denying': -2.0, 'depressed': -2.0, 'depressing': -2.0, 'derail': -2.0, 'derailed': -2.0, 'derails': -2.0, 'deride': -2.0, 'derided': -2.0, 'derides': -2.0, 'deriding': -2.0, 'derision': -2.0, 'desirable': 2.0, 'desire': 1.0, 'desired': 2.0, 'desirous': 2.0, 'despair': -3.0, 'despairing': -3.0, 'despairs': -3.0, 'desperate': -3.0, 'desperately': -3.0, 'despondent': -3.0, 'destroy': -3.0, 'destroyed': -3.0, 'destroying': -3.0, 'destroys': -3.0, 'destruction': -3.0, 'destructive': -3.0, 'detached': -1.0, 'detain': -2.0, 'detained': -2.0, 'detention': -2.0, 'determined': 2.0, 'devastate': -2.0, 'devastated': -2.0, 'devastating': -2.0, 'devoted': 3.0, 'diamond': 1.0, 'dick': -4.0, 'dickhead': -4.0, 'die': -3.0, 'died': -3.0, 'difficult': -1.0, 'diffident': -2.0, 'dilemma': -1.0, 'dipshit': -3.0, 'dire': -3.0, 'direful': -3.0, 'dirt': -2.0, 'dirtier': -2.0, 'dirtiest': -2.0, 'dirty': -2.0, 'disabling': -1.0, 'disadvantage': -2.0, 'disadvantaged': -2.0, 'disappear': -1.0, 'disappeared': -1.0, 'disappears': -1.0, 'disappoint': -2.0, 'disappointed': -2.0, 'disappointing': -2.0, 'disappointment': -2.0, 'disappointments': -2.0, 'disappoints': -2.0, 'disaster': -2.0, 'disasters': -2.0, 'disastrous': -3.0, 'disbelieve': -2.0, 'discard': -1.0, 'discarded': -1.0, 'discarding': -1.0, 'discards': -1.0, 'disconsolate': -2.0, 'disconsolation': -2.0, 'discontented': -2.0, 'discord': -2.0, 'discounted': -1.0, 'discouraged': -2.0, 'discredited': -2.0, 'disdain': -2.0, 'disgrace': -2.0, 'disgraced': -2.0, 'disguise': -1.0, 'disguised': -1.0, 'disguises': -1.0, 'disguising': -1.0, 'disgust': -3.0, 'disgusted': -3.0, 'disgusting': -3.0, 'disheartened': -2.0, 'dishonest': -2.0, 'disillusioned': -2.0, 'disinclined': -2.0, 'disjointed': -2.0, 'dislike': -2.0, 'dismal': -2.0, 'dismayed': -2.0, 'disorder': -2.0, 'disorganized': -2.0, 'disoriented': -2.0, 'disparage': -2.0, 'disparaged': -2.0, 'disparages': -2.0, 'disparaging': -2.0, 'displeased': -2.0, 'dispute': -2.0, 'disputed': -2.0, 'disputes': -2.0, 'disputing': -2.0, 'disqualified': -2.0, 'disquiet': -2.0, 'disregard': -2.0, 'disregarded': -2.0, 'disregarding': -2.0, 'disregards': -2.0, 'disrespect': -2.0, 'disrespected': -2.0, 'disruption': -2.0, 'disruptions': -2.0, 'disruptive': -2.0, 'dissatisfied': -2.0, 'distort': -2.0, 'distorted': -2.0, 'distorting': -2.0, 'distorts': -2.0, 'distract': -2.0, 'distracted': -2.0, 'distraction': -2.0, 'distracts': -2.0, 'distress': -2.0, 'distressed': -2.0, 'distresses': -2.0, 'distressing': -2.0, 'distrust': -3.0, 'distrustful': -3.0, 'disturb': -2.0, 'disturbed': -2.0, 'disturbing': -2.0, 'disturbs': -2.0, 'dithering': -2.0, 'dizzy': -1.0, 'dodging': -2.0, 'dodgy': -2.0, 'does not work': -3.0, 'dolorous': -2.0, 'dont like': -2.0, 'doom': -2.0, 'doomed': -2.0, 'doubt': -1.0, 'doubted': -1.0, 'doubtful': -1.0, 'doubting': -1.0, 'doubts': -1.0, 'douche': -3.0, 'douchebag': -3.0, 'downcast': -2.0, 'downhearted': -2.0, 'downside': -2.0, 'drag': -1.0, 'dragged': -1.0, 'drags': -1.0, 'drained': -2.0, 'dread': -2.0, 'dreaded': -2.0, 'dreadful': -3.0, 'dreading': -2.0, 'dream': 1.0, 'dreams': 1.0, 'dreary': -2.0, 'droopy': -2.0, 'drop': -1.0, 'drown': -2.0, 'drowned': -2.0, 'drowns': -2.0, 'drunk': -2.0, 'dubious': -2.0, 'dud': -2.0, 'dull': -2.0, 'dumb': -3.0, 'dumbass': -3.0, 'dump': -1.0, 'dumped': -2.0, 'dumps': -1.0, 'dupe': -2.0, 'duped': -2.0, 'dysfunction': -2.0, 'eager': 2.0, 'earnest': 2.0, 'ease': 2.0, 'easy': 1.0, 'ecstatic': 4.0, 'eerie': -2.0, 'eery': -2.0, 'effective': 2.0, 'effectively': 2.0, 'elated': 3.0, 'elation': 3.0, 'elegant': 2.0, 'elegantly': 2.0, 'embarrass': -2.0, 'embarrassed': -2.0, 'embarrasses': -2.0, 'embarrassing': -2.0, 'embarrassment': -2.0, 'embittered': -2.0, 'embrace': 1.0, 'emergency': -2.0, 'empathetic': 2.0, 'emptiness': -1.0, 'empty': -1.0, 'enchanted': 2.0, 'encourage': 2.0, 'encouraged': 2.0, 'encouragement': 2.0, 'encourages': 2.0, 'endorse': 2.0, 'endorsed': 2.0, 'endorsement': 2.0, 'endorses': 2.0, 'enemies': -2.0, 'enemy': -2.0, 'energetic': 2.0, 'engage': 1.0, 'engages': 1.0, 'engrossed': 1.0, 'enjoy': 2.0, 'enjoying': 2.0, 'enjoys': 2.0, 'enlighten': 2.0, 'enlightened': 2.0, 'enlightening': 2.0, 'enlightens': 2.0, 'ennui': -2.0, 'enrage': -2.0, 'enraged': -2.0, 'enrages': -2.0, 'enraging': -2.0, 'enrapture': 3.0, 'enslave': -2.0, 'enslaved': -2.0, 'enslaves': -2.0, 'ensure': 1.0, 'ensuring': 1.0, 'enterprising': 1.0, 'entertaining': 2.0, 'enthral': 3.0, 'enthusiastic': 3.0, 'entitled': 1.0, 'entrusted': 2.0, 'envies': -1.0, 'envious': -2.0, 'envy': -1.0, 'envying': -1.0, 'erroneous': -2.0, 'error': -2.0, 'errors': -2.0, 'escape': -1.0, 'escapes': -1.0, 'escaping': -1.0, 'esteemed': 2.0, 'ethical': 2.0, 'euphoria': 3.0, 'euphoric': 4.0, 'eviction': -1.0, 'evil': -3.0, 'exaggerate': -2.0, 'exaggerated': -2.0, 'exaggerates': -2.0, 'exaggerating': -2.0, 'exasperated': 2.0, 'excellence': 3.0, 'excellent': 3.0, 'excite': 3.0, 'excited': 3.0, 'excitement': 3.0, 'exciting': 3.0, 'exclude': -1.0, 'excluded': -2.0, 'exclusion': -1.0, 'exclusive': 2.0, 'excuse': -1.0, 'exempt': -1.0, 'exhausted': -2.0, 'exhilarated': 3.0, 'exhilarates': 3.0, 'exhilarating': 3.0, 'exonerate': 2.0, 'exonerated': 2.0, 'exonerates': 2.0, 'exonerating': 2.0, 'expand': 1.0, 'expands': 1.0, 'expel': -2.0, 'expelled': -2.0, 'expelling': -2.0, 'expels': -2.0, 'exploit': -2.0, 'exploited': -2.0, 'exploiting': -2.0, 'exploits': -2.0, 'exploration': 1.0, 'explorations': 1.0, 'expose': -1.0, 'exposed': -1.0, 'exposes': -1.0, 'exposing': -1.0, 'extend': 1.0, 'extends': 1.0, 'exuberant': 4.0, 'exultant': 3.0, 'exultantly': 3.0, 'fabulous': 4.0, 'fad': -2.0, 'fag': -3.0, 'faggot': -3.0, 'faggots': -3.0, 'fail': -2.0, 'failed': -2.0, 'failing': -2.0, 'fails': -2.0, 'failure': -2.0, 'failures': -2.0, 'fainthearted': -2.0, 'fair': 2.0, 'faith': 1.0, 'faithful': 3.0, 'fake': -3.0, 'fakes': -3.0, 'faking': -3.0, 'fallen': -2.0, 'falling': -1.0, 'falsified': -3.0, 'falsify': -3.0, 'fame': 1.0, 'fan': 3.0, 'fantastic': 4.0, 'farce': -1.0, 'fascinate': 3.0, 'fascinated': 3.0, 'fascinates': 3.0, 'fascinating': 3.0, 'fascist': -2.0, 'fascists': -2.0, 'fatalities': -3.0, 'fatality': -3.0, 'fatigue': -2.0, 'fatigued': -2.0, 'fatigues': -2.0, 'fatiguing': -2.0, 'favor': 2.0, 'favored': 2.0, 'favorite': 2.0, 'favorited': 2.0, 'favorites': 2.0, 'favors': 2.0, 'fear': -2.0, 'fearful': -2.0, 'fearing': -2.0, 'fearless': 2.0, 'fearsome': -2.0, 'fed up': -3.0, 'feeble': -2.0, 'feeling': 1.0, 'felonies': -3.0, 'felony': -3.0, 'fervent': 2.0, 'fervid': 2.0, 'festive': 2.0, 'fiasco': -3.0, 'fidgety': -2.0, 'fight': -1.0, 'fine': 2.0, 'fire': -2.0, 'fired': -2.0, 'firing': -2.0, 'fit': 1.0, 'fitness': 1.0, 'flagship': 2.0, 'flees': -1.0, 'flop': -2.0, 'flops': -2.0, 'flu': -2.0, 'flustered': -2.0, 'focused': 2.0, 'fond': 2.0, 'fondness': 2.0, 'fool': -2.0, 'foolish': -2.0, 'fools': -2.0, 'forced': -1.0, 'foreclosure': -2.0, 'foreclosures': -2.0, 'forget': -1.0, 'forgetful': -2.0, 'forgive': 1.0, 'forgiving': 1.0, 'forgotten': -1.0, 'fortunate': 2.0, 'frantic': -1.0, 'fraud': -4.0, 'frauds': -4.0, 'fraudster': -4.0, 'fraudsters': -4.0, 'fraudulence': -4.0, 'fraudulent': -4.0, 'free': 1.0, 'freedom': 2.0, 'frenzy': -3.0, 'fresh': 1.0, 'friendly': 2.0, 'fright': -2.0, 'frightened': -2.0, 'frightening': -3.0, 'frikin': -2.0, 'frisky': 2.0, 'frowning': -1.0, 'frustrate': -2.0, 'frustrated': -2.0, 'frustrates': -2.0, 'frustrating': -2.0, 'frustration': -2.0, 'ftw': 3.0, 'fuck': -4.0, 'fucked': -4.0, 'fucker': -4.0, 'fuckers': -4.0, 'fuckface': -4.0, 'fuckhead': -4.0, 'fucking': -4.0, 'fucktard': -4.0, 'fud': -3.0, 'fuked': -4.0, 'fuking': -4.0, 'fulfill': 2.0, 'fulfilled': 2.0, 'fulfills': 2.0, 'fuming': -2.0, 'fun': 4.0, 'funeral': -1.0, 'funerals': -1.0, 'funky': 2.0, 'funnier': 4.0, 'funny': 4.0, 'furious': -3.0, 'futile': 2.0, 'gag': -2.0, 'gagged': -2.0, 'gain': 2.0, 'gained': 2.0, 'gaining': 2.0, 'gains': 2.0, 'gallant': 3.0, 'gallantly': 3.0, 'gallantry': 3.0, 'generous': 2.0, 'genial': 3.0, 'ghost': -1.0, 'giddy': -2.0, 'gift': 2.0, 'glad': 3.0, 'glamorous': 3.0, 'glamourous': 3.0, 'glee': 3.0, 'gleeful': 3.0, 'gloom': -1.0, 'gloomy': -2.0, 'glorious': 2.0, 'glory': 2.0, 'glum': -2.0, 'god': 1.0, 'goddamn': -3.0, 'godsend': 4.0, 'good': 3.0, 'goodness': 3.0, 'grace': 1.0, 'gracious': 3.0, 'grand': 3.0, 'grant': 1.0, 'granted': 1.0, 'granting': 1.0, 'grants': 1.0, 'grateful': 3.0, 'gratification': 2.0, 'grave': -2.0, 'gray': -1.0, 'great': 3.0, 'greater': 3.0, 'greatest': 3.0, 'greed': -3.0, 'greedy': -2.0, 'green wash': -3.0, 'green washing': -3.0, 'greenwash': -3.0, 'greenwasher': -3.0, 'greenwashers': -3.0, 'greenwashing': -3.0, 'greet': 1.0, 'greeted': 1.0, 'greeting': 1.0, 'greetings': 2.0, 'greets': 1.0, 'grey': -1.0, 'grief': -2.0, 'grieved': -2.0, 'gross': -2.0, 'growing': 1.0, 'growth': 2.0, 'guarantee': 1.0, 'guilt': -3.0, 'guilty': -3.0, 'gullibility': -2.0, 'gullible': -2.0, 'gun': -1.0, 'ha': 2.0, 'hacked': -1.0, 'haha': 3.0, 'hahaha': 3.0, 'hahahah': 3.0, 'hail': 2.0, 'hailed': 2.0, 'hapless': -2.0, 'haplessness': -2.0, 'happiness': 3.0, 'happy': 3.0, 'hard': -1.0, 'hardier': 2.0, 'hardship': -2.0, 'hardy': 2.0, 'harm': -2.0, 'harmed': -2.0, 'harmful': -2.0, 'harming': -2.0, 'harms': -2.0, 'harried': -2.0, 'harsh': -2.0, 'harsher': -2.0, 'harshest': -2.0, 'hate': -3.0, 'hated': -3.0, 'haters': -3.0, 'hates': -3.0, 'hating': -3.0, 'haunt': -1.0, 'haunted': -2.0, 'haunting': 1.0, 'haunts': -1.0, 'havoc': -2.0, 'healthy': 2.0, 'heartbreaking': -3.0, 'heartbroken': -3.0, 'heartfelt': 3.0, 'heaven': 2.0, 'heavenly': 4.0, 'heavyhearted': -2.0, 'hell': -4.0, 'help': 2.0, 'helpful': 2.0, 'helping': 2.0, 'helpless': -2.0, 'helps': 2.0, 'hero': 2.0, 'heroes': 2.0, 'heroic': 3.0, 'hesitant': -2.0, 'hesitate': -2.0, 'hid': -1.0, 'hide': -1.0, 'hides': -1.0, 'hiding': -1.0, 'highlight': 2.0, 'hilarious': 2.0, 'hindrance': -2.0, 'hoax': -2.0, 'homesick': -2.0, 'honest': 2.0, 'honor': 2.0, 'honored': 2.0, 'honoring': 2.0, 'honour': 2.0, 'honoured': 2.0, 'honouring': 2.0, 'hooligan': -2.0, 'hooliganism': -2.0, 'hooligans': -2.0, 'hope': 2.0, 'hopeful': 2.0, 'hopefully': 2.0, 'hopeless': -2.0, 'hopelessness': -2.0, 'hopes': 2.0, 'hoping': 2.0, 'horrendous': -3.0, 'horrible': -3.0, 'horrific': -3.0, 'horrified': -3.0, 'hostile': -2.0, 'huckster': -2.0, 'hug': 2.0, 'huge': 1.0, 'hugs': 2.0, 'humerous': 3.0, 'humiliated': -3.0, 'humiliation': -3.0, 'humor': 2.0, 'humorous': 2.0, 'humour': 2.0, 'humourous': 2.0, 'hunger': -2.0, 'hurrah': 5.0, 'hurt': -2.0, 'hurting': -2.0, 'hurts': -2.0, 'hypocritical': -2.0, 'hysteria': -3.0, 'hysterical': -3.0, 'hysterics': -3.0, 'idiot': -3.0, 'idiotic': -3.0, 'ignorance': -2.0, 'ignorant': -2.0, 'ignore': -1.0, 'ignored': -2.0, 'ignores': -1.0, 'ill': -2.0, 'illegal': -3.0, 'illiteracy': -2.0, 'illness': -2.0, 'illnesses': -2.0, 'imbecile': -3.0, 'immobilized': -1.0, 'immortal': 2.0, 'immune': 1.0, 'impatient': -2.0, 'imperfect': -2.0, 'importance': 2.0, 'important': 2.0, 'impose': -1.0, 'imposed': -1.0, 'imposes': -1.0, 'imposing': -1.0, 'impotent': -2.0, 'impress': 3.0, 'impressed': 3.0, 'impresses': 3.0, 'impressive': 3.0, 'imprisoned': -2.0, 'improve': 2.0, 'improved': 2.0, 'improvement': 2.0, 'improves': 2.0, 'improving': 2.0, 'inability': -2.0, 'inaction': -2.0, 'inadequate': -2.0, 'incapable': -2.0, 'incapacitated': -2.0, 'incensed': -2.0, 'incompetence': -2.0, 'incompetent': -2.0, 'inconsiderate': -2.0, 'inconvenience': -2.0, 'inconvenient': -2.0, 'increase': 1.0, 'increased': 1.0, 'indecisive': -2.0, 'indestructible': 2.0, 'indifference': -2.0, 'indifferent': -2.0, 'indignant': -2.0, 'indignation': -2.0, 'indoctrinate': -2.0, 'indoctrinated': -2.0, 'indoctrinates': -2.0, 'indoctrinating': -2.0, 'ineffective': -2.0, 'ineffectively': -2.0, 'infatuated': 2.0, 'infatuation': 2.0, 'infected': -2.0, 'inferior': -2.0, 'inflamed': -2.0, 'influential': 2.0, 'infringement': -2.0, 'infuriate': -2.0, 'infuriated': -2.0, 'infuriates': -2.0, 'infuriating': -2.0, 'inhibit': -1.0, 'injured': -2.0, 'injury': -2.0, 'injustice': -2.0, 'innovate': 1.0, 'innovates': 1.0, 'innovation': 1.0, 'innovative': 2.0, 'inquisition': -2.0, 'inquisitive': 2.0, 'insane': -2.0, 'insanity': -2.0, 'insecure': -2.0, 'insensitive': -2.0, 'insensitivity': -2.0, 'insignificant': -2.0, 'insipid': -2.0, 'inspiration': 2.0, 'inspirational': 2.0, 'inspire': 2.0, 'inspired': 2.0, 'inspires': 2.0, 'inspiring': 3.0, 'insult': -2.0, 'insulted': -2.0, 'insulting': -2.0, 'insults': -2.0, 'intact': 2.0, 'integrity': 2.0, 'intelligent': 2.0, 'intense': 1.0, 'interest': 1.0, 'interested': 2.0, 'interesting': 2.0, 'interests': 1.0, 'interrogated': -2.0, 'interrupt': -2.0, 'interrupted': -2.0, 'interrupting': -2.0, 'interruption': -2.0, 'interrupts': -2.0, 'intimidate': -2.0, 'intimidated': -2.0, 'intimidates': -2.0, 'intimidating': -2.0, 'intimidation': -2.0, 'intricate': 2.0, 'intrigues': 1.0, 'invincible': 2.0, 'invite': 1.0, 'inviting': 1.0, 'invulnerable': 2.0, 'irate': -3.0, 'ironic': -1.0, 'irony': -1.0, 'irrational': -1.0, 'irresistible': 2.0, 'irresolute': -2.0, 'irresponsible': 2.0, 'irreversible': -1.0, 'irritate': -3.0, 'irritated': -3.0, 'irritating': -3.0, 'isolated': -1.0, 'itchy': -2.0, 'jackass': -4.0, 'jackasses': -4.0, 'jailed': -2.0, 'jaunty': 2.0, 'jealous': -2.0, 'jeopardy': -2.0, 'jerk': -3.0, 'jesus': 1.0, 'jewel': 1.0, 'jewels': 1.0, 'jocular': 2.0, 'join': 1.0, 'joke': 2.0, 'jokes': 2.0, 'jolly': 2.0, 'jovial': 2.0, 'joy': 3.0, 'joyful': 3.0, 'joyfully': 3.0, 'joyless': -2.0, 'joyous': 3.0, 'jubilant': 3.0, 'jumpy': -1.0, 'justice': 2.0, 'justifiably': 2.0, 'justified': 2.0, 'keen': 1.0, 'kill': -3.0, 'killed': -3.0, 'killing': -3.0, 'kills': -3.0, 'kind': 2.0, 'kinder': 2.0, 'kiss': 2.0, 'kudos': 3.0, 'lack': -2.0, 'lackadaisical': -2.0, 'lag': -1.0, 'lagged': -2.0, 'lagging': -2.0, 'lags': -2.0, 'lame': -2.0, 'landmark': 2.0, 'laugh': 1.0, 'laughed': 1.0, 'laughing': 1.0, 'laughs': 1.0, 'laughting': 1.0, 'launched': 1.0, 'lawl': 3.0, 'lawsuit': -2.0, 'lawsuits': -2.0, 'lazy': -1.0, 'leak': -1.0, 'leaked': -1.0, 'leave': -1.0, 'legal': 1.0, 'legally': 1.0, 'lenient': 1.0, 'lethargic': -2.0, 'lethargy': -2.0, 'liar': -3.0, 'liars': -3.0, 'libelous': -2.0, 'lied': -2.0, 'lifesaver': 4.0, 'lighthearted': 1.0, 'like': 2.0, 'liked': 2.0, 'likes': 2.0, 'limitation': -1.0, 'limited': -1.0, 'limits': -1.0, 'litigation': -1.0, 'litigious': -2.0, 'lively': 2.0, 'livid': -2.0, 'lmao': 4.0, 'lmfao': 4.0, 'loathe': -3.0, 'loathed': -3.0, 'loathes': -3.0, 'loathing': -3.0, 'lobby': -2.0, 'lobbying': -2.0, 'lol': 3.0, 'lonely': -2.0, 'lonesome': -2.0, 'longing': -1.0, 'loom': -1.0, 'loomed': -1.0, 'looming': -1.0, 'looms': -1.0, 'loose': -3.0, 'looses': -3.0, 'loser': -3.0, 'losing': -3.0, 'loss': -3.0, 'lost': -3.0, 'lovable': 3.0, 'love': 3.0, 'loved': 3.0, 'lovelies': 3.0, 'lovely': 3.0, 'loving': 2.0, 'lowest': -1.0, 'loyal': 3.0, 'loyalty': 3.0, 'luck': 3.0, 'luckily': 3.0, 'lucky': 3.0, 'lugubrious': -2.0, 'lunatic': -3.0, 'lunatics': -3.0, 'lurk': -1.0, 'lurking': -1.0, 'lurks': -1.0, 'mad': -3.0, 'maddening': -3.0, 'made-up': -1.0, 'madly': -3.0, 'madness': -3.0, 'mandatory': -1.0, 'manipulated': -1.0, 'manipulating': -1.0, 'manipulation': -1.0, 'marvel': 3.0, 'marvelous': 3.0, 'marvels': 3.0, 'masterpiece': 4.0, 'masterpieces': 4.0, 'matter': 1.0, 'matters': 1.0, 'mature': 2.0, 'meaningful': 2.0, 'meaningless': -2.0, 'medal': 3.0, 'mediocrity': -3.0, 'meditative': 1.0, 'melancholy': -2.0, 'menace': -2.0, 'menaced': -2.0, 'mercy': 2.0, 'merry': 3.0, 'mess': -2.0, 'messed': -2.0, 'messing up': -2.0, 'methodical': 2.0, 'mindless': -2.0, 'miracle': 4.0, 'mirth': 3.0, 'mirthful': 3.0, 'mirthfully': 3.0, 'misbehave': -2.0, 'misbehaved': -2.0, 'misbehaves': -2.0, 'misbehaving': -2.0, 'mischief': -1.0, 'mischiefs': -1.0, 'miserable': -3.0, 'misery': -2.0, 'misgiving': -2.0, 'misinformation': -2.0, 'misinformed': -2.0, 'misinterpreted': -2.0, 'misleading': -3.0, 'misread': -1.0, 'misreporting': -2.0, 'misrepresentation': -2.0, 'miss': -2.0, 'missed': -2.0, 'missing': -2.0, 'mistake': -2.0, 'mistaken': -2.0, 'mistakes': -2.0, 'mistaking': -2.0, 'misunderstand': -2.0, 'misunderstanding': -2.0, 'misunderstands': -2.0, 'misunderstood': -2.0, 'moan': -2.0, 'moaned': -2.0, 'moaning': -2.0, 'moans': -2.0, 'mock': -2.0, 'mocked': -2.0, 'mocking': -2.0, 'mocks': -2.0, 'mongering': -2.0, 'monopolize': -2.0, 'monopolized': -2.0, 'monopolizes': -2.0, 'monopolizing': -2.0, 'moody': -1.0, 'mope': -1.0, 'moping': -1.0, 'moron': -3.0, 'motherfucker': -5.0, 'motherfucking': -5.0, 'motivate': 1.0, 'motivated': 2.0, 'motivating': 2.0, 'motivation': 1.0, 'mourn': -2.0, 'mourned': -2.0, 'mournful': -2.0, 'mourning': -2.0, 'mourns': -2.0, 'mumpish': -2.0, 'murder': -2.0, 'murderer': -2.0, 'murdering': -3.0, 'murderous': -3.0, 'murders': -2.0, 'myth': -1.0, 'n00b': -2.0, 'naive': -2.0, 'nasty': -3.0, 'natural': 1.0, 'na茂ve': -2.0, 'needy': -2.0, 'negative': -2.0, 'negativity': -2.0, 'neglect': -2.0, 'neglected': -2.0, 'neglecting': -2.0, 'neglects': -2.0, 'nerves': -1.0, 'nervous': -2.0, 'nervously': -2.0, 'nice': 3.0, 'nifty': 2.0, 'niggas': -5.0, 'nigger': -5.0, 'no': -1.0, 'no fun': -3.0, 'noble': 2.0, 'noisy': -1.0, 'nonsense': -2.0, 'noob': -2.0, 'nosey': -2.0, 'not good': -2.0, 'not working': -3.0, 'notorious': -2.0, 'novel': 2.0, 'numb': -1.0, 'nuts': -3.0, 'obliterate': -2.0, 'obliterated': -2.0, 'obnoxious': -3.0, 'obscene': -2.0, 'obsessed': 2.0, 'obsolete': -2.0, 'obstacle': -2.0, 'obstacles': -2.0, 'obstinate': -2.0, 'odd': -2.0, 'offend': -2.0, 'offended': -2.0, 'offender': -2.0, 'offending': -2.0, 'offends': -2.0, 'offline': -1.0, 'oks': 2.0, 'ominous': 3.0, 'once-in-a-lifetime': 3.0, 'opportunities': 2.0, 'opportunity': 2.0, 'oppressed': -2.0, 'oppressive': -2.0, 'optimism': 2.0, 'optimistic': 2.0, 'optionless': -2.0, 'outcry': -2.0, 'outmaneuvered': -2.0, 'outrage': -3.0, 'outraged': -3.0, 'outreach': 2.0, 'outstanding': 5.0, 'overjoyed': 4.0, 'overload': -1.0, 'overlooked': -1.0, 'overreact': -2.0, 'overreacted': -2.0, 'overreaction': -2.0, 'overreacts': -2.0, 'oversell': -2.0, 'overselling': -2.0, 'oversells': -2.0, 'oversimplification': -2.0, 'oversimplified': -2.0, 'oversimplifies': -2.0, 'oversimplify': -2.0, 'overstatement': -2.0, 'overstatements': -2.0, 'overweight': -1.0, 'oxymoron': -1.0, 'pain': -2.0, 'pained': -2.0, 'panic': -3.0, 'panicked': -3.0, 'panics': -3.0, 'paradise': 3.0, 'paradox': -1.0, 'pardon': 2.0, 'pardoned': 2.0, 'pardoning': 2.0, 'pardons': 2.0, 'parley': -1.0, 'passionate': 2.0, 'passive': -1.0, 'passively': -1.0, 'pathetic': -2.0, 'pay': -1.0, 'peace': 2.0, 'peaceful': 2.0, 'peacefully': 2.0, 'penalty': -2.0, 'pensive': -1.0, 'perfect': 3.0, 'perfected': 2.0, 'perfectly': 3.0, 'perfects': 2.0, 'peril': -2.0, 'perjury': -3.0, 'perpetrator': -2.0, 'perpetrators': -2.0, 'perplexed': -2.0, 'persecute': -2.0, 'persecuted': -2.0, 'persecutes': -2.0, 'persecuting': -2.0, 'perturbed': -2.0, 'pesky': -2.0, 'pessimism': -2.0, 'pessimistic': -2.0, 'petrified': -2.0, 'phobic': -2.0, 'picturesque': 2.0, 'pileup': -1.0, 'pique': -2.0, 'piqued': -2.0, 'piss': -4.0, 'pissed': -4.0, 'pissing': -3.0, 'piteous': -2.0, 'pitied': -1.0, 'pity': -2.0, 'playful': 2.0, 'pleasant': 3.0, 'please': 1.0, 'pleased': 3.0, 'pleasure': 3.0, 'poised': -2.0, 'poison': -2.0, 'poisoned': -2.0, 'poisons': -2.0, 'pollute': -2.0, 'polluted': -2.0, 'polluter': -2.0, 'polluters': -2.0, 'pollutes': -2.0, 'poor': -2.0, 'poorer': -2.0, 'poorest': -2.0, 'popular': 3.0, 'positive': 2.0, 'positively': 2.0, 'possessive': -2.0, 'postpone': -1.0, 'postponed': -1.0, 'postpones': -1.0, 'postponing': -1.0, 'poverty': -1.0, 'powerful': 2.0, 'powerless': -2.0, 'praise': 3.0, 'praised': 3.0, 'praises': 3.0, 'praising': 3.0, 'pray': 1.0, 'praying': 1.0, 'prays': 1.0, 'prblm': -2.0, 'prblms': -2.0, 'prepared': 1.0, 'pressure': -1.0, 'pressured': -2.0, 'pretend': -1.0, 'pretending': -1.0, 'pretends': -1.0, 'pretty': 1.0, 'prevent': -1.0, 'prevented': -1.0, 'preventing': -1.0, 'prevents': -1.0, 'prick': -5.0, 'prison': -2.0, 'prisoner': -2.0, 'prisoners': -2.0, 'privileged': 2.0, 'proactive': 2.0, 'problem': -2.0, 'problems': -2.0, 'profiteer': -2.0, 'progress': 2.0, 'prominent': 2.0, 'promise': 1.0, 'promised': 1.0, 'promises': 1.0, 'promote': 1.0, 'promoted': 1.0, 'promotes': 1.0, 'promoting': 1.0, 'propaganda': -2.0, 'prosecute': -1.0, 'prosecuted': -2.0, 'prosecutes': -1.0, 'prosecution': -1.0, 'prospect': 1.0, 'prospects': 1.0, 'prosperous': 3.0, 'protect': 1.0, 'protected': 1.0, 'protects': 1.0, 'protest': -2.0, 'protesters': -2.0, 'protesting': -2.0, 'protests': -2.0, 'proud': 2.0, 'proudly': 2.0, 'provoke': -1.0, 'provoked': -1.0, 'provokes': -1.0, 'provoking': -1.0, 'pseudoscience': -3.0, 'punish': -2.0, 'punished': -2.0, 'punishes': -2.0, 'punitive': -2.0, 'pushy': -1.0, 'puzzled': -2.0, 'quaking': -2.0, 'questionable': -2.0, 'questioned': -1.0, 'questioning': -1.0, 'racism': -3.0, 'racist': -3.0, 'racists': -3.0, 'rage': -2.0, 'rageful': -2.0, 'rainy': -1.0, 'rant': -3.0, 'ranter': -3.0, 'ranters': -3.0, 'rants': -3.0, 'rape': -4.0, 'rapist': -4.0, 'rapture': 2.0, 'raptured': 2.0, 'raptures': 2.0, 'rapturous': 4.0, 'rash': -2.0, 'ratified': 2.0, 'reach': 1.0, 'reached': 1.0, 'reaches': 1.0, 'reaching': 1.0, 'reassure': 1.0, 'reassured': 1.0, 'reassures': 1.0, 'reassuring': 2.0, 'rebellion': -2.0, 'recession': -2.0, 'reckless': -2.0, 'recommend': 2.0, 'recommended': 2.0, 'recommends': 2.0, 'redeemed': 2.0, 'refuse': -2.0, 'refused': -2.0, 'refusing': -2.0, 'regret': -2.0, 'regretful': -2.0, 'regrets': -2.0, 'regretted': -2.0, 'regretting': -2.0, 'reject': -1.0, 'rejected': -1.0, 'rejecting': -1.0, 'rejects': -1.0, 'rejoice': 4.0, 'rejoiced': 4.0, 'rejoices': 4.0, 'rejoicing': 4.0, 'relaxed': 2.0, 'relentless': -1.0, 'reliant': 2.0, 'relieve': 1.0, 'relieved': 2.0, 'relieves': 1.0, 'relieving': 2.0, 'relishing': 2.0, 'remarkable': 2.0, 'remorse': -2.0, 'repulse': -1.0, 'repulsed': -2.0, 'rescue': 2.0, 'rescued': 2.0, 'rescues': 2.0, 'resentful': -2.0, 'resign': -1.0, 'resigned': -1.0, 'resigning': -1.0, 'resigns': -1.0, 'resolute': 2.0, 'resolve': 2.0, 'resolved': 2.0, 'resolves': 2.0, 'resolving': 2.0, 'respected': 2.0, 'responsible': 2.0, 'responsive': 2.0, 'restful': 2.0, 'restless': -2.0, 'restore': 1.0, 'restored': 1.0, 'restores': 1.0, 'restoring': 1.0, 'restrict': -2.0, 'restricted': -2.0, 'restricting': -2.0, 'restriction': -2.0, 'restricts': -2.0, 'retained': -1.0, 'retard': -2.0, 'retarded': -2.0, 'retreat': -1.0, 'revenge': -2.0, 'revengeful': -2.0, 'revered': 2.0, 'revive': 2.0, 'revives': 2.0, 'reward': 2.0, 'rewarded': 2.0, 'rewarding': 2.0, 'rewards': 2.0, 'rich': 2.0, 'ridiculous': -3.0, 'rig': -1.0, 'rigged': -1.0, 'right direction': 3.0, 'rigorous': 3.0, 'rigorously': 3.0, 'riot': -2.0, 'riots': -2.0, 'risk': -2.0, 'risks': -2.0, 'rob': -2.0, 'robber': -2.0, 'robed': -2.0, 'robing': -2.0, 'robs': -2.0, 'robust': 2.0, 'rofl': 4.0, 'roflcopter': 4.0, 'roflmao': 4.0, 'romance': 2.0, 'rotfl': 4.0, 'rotflmfao': 4.0, 'rotflol': 4.0, 'ruin': -2.0, 'ruined': -2.0, 'ruining': -2.0, 'ruins': -2.0, 'sabotage': -2.0, 'sad': -2.0, 'sadden': -2.0, 'saddened': -2.0, 'sadly': -2.0, 'safe': 1.0, 'safely': 1.0, 'safety': 1.0, 'salient': 1.0, 'sappy': -1.0, 'sarcastic': -2.0, 'satisfied': 2.0, 'save': 2.0, 'saved': 2.0, 'scam': -2.0, 'scams': -2.0, 'scandal': -3.0, 'scandalous': -3.0, 'scandals': -3.0, 'scapegoat': -2.0, 'scapegoats': -2.0, 'scare': -2.0, 'scared': -2.0, 'scary': -2.0, 'sceptical': -2.0, 'scold': -2.0, 'scoop': 3.0, 'scorn': -2.0, 'scornful': -2.0, 'scream': -2.0, 'screamed': -2.0, 'screaming': -2.0, 'screams': -2.0, 'screwed': -2.0, 'screwed up': -3.0, 'scumbag': -4.0, 'secure': 2.0, 'secured': 2.0, 'secures': 2.0, 'sedition': -2.0, 'seditious': -2.0, 'seduced': -1.0, 'self-confident': 2.0, 'self-deluded': -2.0, 'selfish': -3.0, 'selfishness': -3.0, 'sentence': -2.0, 'sentenced': -2.0, 'sentences': -2.0, 'sentencing': -2.0, 'serene': 2.0, 'severe': -2.0, 'sexy': 3.0, 'shaky': -2.0, 'shame': -2.0, 'shamed': -2.0, 'shameful': -2.0, 'share': 1.0, 'shared': 1.0, 'shares': 1.0, 'shattered': -2.0, 'shit': -4.0, 'shithead': -4.0, 'shitty': -3.0, 'shock': -2.0, 'shocked': -2.0, 'shocking': -2.0, 'shocks': -2.0, 'shoot': -1.0, 'short-sighted': -2.0, 'short-sightedness': -2.0, 'shortage': -2.0, 'shortages': -2.0, 'shrew': -4.0, 'shy': -1.0, 'sick': -2.0, 'sigh': -2.0, 'significance': 1.0, 'significant': 1.0, 'silencing': -1.0, 'silly': -1.0, 'sincere': 2.0, 'sincerely': 2.0, 'sincerest': 2.0, 'sincerity': 2.0, 'sinful': -3.0, 'singleminded': -2.0, 'skeptic': -2.0, 'skeptical': -2.0, 'skepticism': -2.0, 'skeptics': -2.0, 'slam': -2.0, 'slash': -2.0, 'slashed': -2.0, 'slashes': -2.0, 'slashing': -2.0, 'slavery': -3.0, 'sleeplessness': -2.0, 'slick': 2.0, 'slicker': 2.0, 'slickest': 2.0, 'sluggish': -2.0, 'slut': -5.0, 'smart': 1.0, 'smarter': 2.0, 'smartest': 2.0, 'smear': -2.0, 'smile': 2.0, 'smiled': 2.0, 'smiles': 2.0, 'smiling': 2.0, 'smog': -2.0, 'sneaky': -1.0, 'snub': -2.0, 'snubbed': -2.0, 'snubbing': -2.0, 'snubs': -2.0, 'sobering': 1.0, 'solemn': -1.0, 'solid': 2.0, 'solidarity': 2.0, 'solution': 1.0, 'solutions': 1.0, 'solve': 1.0, 'solved': 1.0, 'solves': 1.0, 'solving': 1.0, 'somber': -2.0, 'some kind': 0.0, 'son-of-a-bitch': -5.0, 'soothe': 3.0, 'soothed': 3.0, 'soothing': 3.0, 'sophisticated': 2.0, 'sore': -1.0, 'sorrow': -2.0, 'sorrowful': -2.0, 'sorry': -1.0, 'spam': -2.0, 'spammer': -3.0, 'spammers': -3.0, 'spamming': -2.0, 'spark': 1.0, 'sparkle': 3.0, 'sparkles': 3.0, 'sparkling': 3.0, 'speculative': -2.0, 'spirit': 1.0, 'spirited': 2.0, 'spiritless': -2.0, 'spiteful': -2.0, 'splendid': 3.0, 'sprightly': 2.0, 'squelched': -1.0, 'stab': -2.0, 'stabbed': -2.0, 'stable': 2.0, 'stabs': -2.0, 'stall': -2.0, 'stalled': -2.0, 'stalling': -2.0, 'stamina': 2.0, 'stampede': -2.0, 'startled': -2.0, 'starve': -2.0, 'starved': -2.0, 'starves': -2.0, 'starving': -2.0, 'steadfast': 2.0, 'steal': -2.0, 'steals': -2.0, 'stereotype': -2.0, 'stereotyped': -2.0, 'stifled': -1.0, 'stimulate': 1.0, 'stimulated': 1.0, 'stimulates': 1.0, 'stimulating': 2.0, 'stingy': -2.0, 'stolen': -2.0, 'stop': -1.0, 'stopped': -1.0, 'stopping': -1.0, 'stops': -1.0, 'stout': 2.0, 'straight': 1.0, 'strange': -1.0, 'strangely': -1.0, 'strangled': -2.0, 'strength': 2.0, 'strengthen': 2.0, 'strengthened': 2.0, 'strengthening': 2.0, 'strengthens': 2.0, 'stressed': -2.0, 'stressor': -2.0, 'stressors': -2.0, 'stricken': -2.0, 'strike': -1.0, 'strikers': -2.0, 'strikes': -1.0, 'strong': 2.0, 'stronger': 2.0, 'strongest': 2.0, 'struck': -1.0, 'struggle': -2.0, 'struggled': -2.0, 'struggles': -2.0, 'struggling': -2.0, 'stubborn': -2.0, 'stuck': -2.0, 'stunned': -2.0, 'stunning': 4.0, 'stupid': -2.0, 'stupidly': -2.0, 'suave': 2.0, 'substantial': 1.0, 'substantially': 1.0, 'subversive': -2.0, 'success': 2.0, 'successful': 3.0, 'suck': -3.0, 'sucks': -3.0, 'suffer': -2.0, 'suffering': -2.0, 'suffers': -2.0, 'suicidal': -2.0, 'suicide': -2.0, 'suing': -2.0, 'sulking': -2.0, 'sulky': -2.0, 'sullen': -2.0, 'sunshine': 2.0, 'super': 3.0, 'superb': 5.0, 'superior': 2.0, 'support': 2.0, 'supported': 2.0, 'supporter': 1.0, 'supporters': 1.0, 'supporting': 1.0, 'supportive': 2.0, 'supports': 2.0, 'survived': 2.0, 'surviving': 2.0, 'survivor': 2.0, 'suspect': -1.0, 'suspected': -1.0, 'suspecting': -1.0, 'suspects': -1.0, 'suspend': -1.0, 'suspended': -1.0, 'suspicious': -2.0, 'swear': -2.0, 'swearing': -2.0, 'swears': -2.0, 'sweet': 2.0, 'swift': 2.0, 'swiftly': 2.0, 'swindle': -3.0, 'swindles': -3.0, 'swindling': -3.0, 'sympathetic': 2.0, 'sympathy': 2.0, 'tard': -2.0, 'tears': -2.0, 'tender': 2.0, 'tense': -2.0, 'tension': -1.0, 'terrible': -3.0, 'terribly': -3.0, 'terrific': 4.0, 'terrified': -3.0, 'terror': -3.0, 'terrorize': -3.0, 'terrorized': -3.0, 'terrorizes': -3.0, 'thank': 2.0, 'thankful': 2.0, 'thanks': 2.0, 'thorny': -2.0, 'thoughtful': 2.0, 'thoughtless': -2.0, 'threat': -2.0, 'threaten': -2.0, 'threatened': -2.0, 'threatening': -2.0, 'threatens': -2.0, 'threats': -2.0, 'thrilled': 5.0, 'thwart': -2.0, 'thwarted': -2.0, 'thwarting': -2.0, 'thwarts': -2.0, 'timid': -2.0, 'timorous': -2.0, 'tired': -2.0, 'tits': -2.0, 'tolerant': 2.0, 'toothless': -2.0, 'top': 2.0, 'tops': 2.0, 'torn': -2.0, 'torture': -4.0, 'tortured': -4.0, 'tortures': -4.0, 'torturing': -4.0, 'totalitarian': -2.0, 'totalitarianism': -2.0, 'tout': -2.0, 'touted': -2.0, 'touting': -2.0, 'touts': -2.0, 'tragedy': -2.0, 'tragic': -2.0, 'tranquil': 2.0, 'trap': -1.0, 'trapped': -2.0, 'trauma': -3.0, 'traumatic': -3.0, 'travesty': -2.0, 'treason': -3.0, 'treasonous': -3.0, 'treasure': 2.0, 'treasures': 2.0, 'trembling': -2.0, 'tremulous': -2.0, 'tricked': -2.0, 'trickery': -2.0, 'triumph': 4.0, 'triumphant': 4.0, 'trouble': -2.0, 'troubled': -2.0, 'troubles': -2.0, 'true': 2.0, 'trust': 1.0, 'trusted': 2.0, 'tumor': -2.0, 'twat': -5.0, 'ugly': -3.0, 'unacceptable': -2.0, 'unappreciated': -2.0, 'unapproved': -2.0, 'unaware': -2.0, 'unbelievable': -1.0, 'unbelieving': -1.0, 'unbiased': 2.0, 'uncertain': -1.0, 'unclear': -1.0, 'uncomfortable': -2.0, 'unconcerned': -2.0, 'unconfirmed': -1.0, 'unconvinced': -1.0, 'uncredited': -1.0, 'undecided': -1.0, 'underestimate': -1.0, 'underestimated': -1.0, 'underestimates': -1.0, 'underestimating': -1.0, 'undermine': -2.0, 'undermined': -2.0, 'undermines': -2.0, 'undermining': -2.0, 'undeserving': -2.0, 'undesirable': -2.0, 'uneasy': -2.0, 'unemployment': -2.0, 'unequal': -1.0, 'unequaled': 2.0, 'unethical': -2.0, 'unfair': -2.0, 'unfocused': -2.0, 'unfulfilled': -2.0, 'unhappy': -2.0, 'unhealthy': -2.0, 'unified': 1.0, 'unimpressed': -2.0, 'unintelligent': -2.0, 'united': 1.0, 'unjust': -2.0, 'unlovable': -2.0, 'unloved': -2.0, 'unmatched': 1.0, 'unmotivated': -2.0, 'unprofessional': -2.0, 'unresearched': -2.0, 'unsatisfied': -2.0, 'unsecured': -2.0, 'unsettled': -1.0, 'unsophisticated': -2.0, 'unstable': -2.0, 'unstoppable': 2.0, 'unsupported': -2.0, 'unsure': -1.0, 'untarnished': 2.0, 'unwanted': -2.0, 'unworthy': -2.0, 'upset': -2.0, 'upsets': -2.0, 'upsetting': -2.0, 'uptight': -2.0, 'urgent': -1.0, 'useful': 2.0, 'usefulness': 2.0, 'useless': -2.0, 'uselessness': -2.0, 'vague': -2.0, 'validate': 1.0, 'validated': 1.0, 'validates': 1.0, 'validating': 1.0, 'verdict': -1.0, 'verdicts': -1.0, 'vested': 1.0, 'vexation': -2.0, 'vexing': -2.0, 'vibrant': 3.0, 'vicious': -2.0, 'victim': -3.0, 'victimize': -3.0, 'victimized': -3.0, 'victimizes': -3.0, 'victimizing': -3.0, 'victims': -3.0, 'vigilant': 3.0, 'vile': -3.0, 'vindicate': 2.0, 'vindicated': 2.0, 'vindicates': 2.0, 'vindicating': 2.0, 'violate': -2.0, 'violated': -2.0, 'violates': -2.0, 'violating': -2.0, 'violence': -3.0, 'violent': -3.0, 'virtuous': 2.0, 'virulent': -2.0, 'vision': 1.0, 'visionary': 3.0, 'visioning': 1.0, 'visions': 1.0, 'vitality': 3.0, 'vitamin': 1.0, 'vitriolic': -3.0, 'vivacious': 3.0, 'vociferous': -1.0, 'vulnerability': -2.0, 'vulnerable': -2.0, 'walkout': -2.0, 'walkouts': -2.0, 'wanker': -3.0, 'want': 1.0, 'war': -2.0, 'warfare': -2.0, 'warm': 1.0, 'warmth': 2.0, 'warn': -2.0, 'warned': -2.0, 'warning': -3.0, 'warnings': -3.0, 'warns': -2.0, 'waste': -1.0, 'wasted': -2.0, 'wasting': -2.0, 'wavering': -1.0, 'weak': -2.0, 'weakness': -2.0, 'wealth': 3.0, 'wealthy': 2.0, 'weary': -2.0, 'weep': -2.0, 'weeping': -2.0, 'weird': -2.0, 'welcome': 2.0, 'welcomed': 2.0, 'welcomes': 2.0, 'whimsical': 1.0, 'whitewash': -3.0, 'whore': -4.0, 'wicked': -2.0, 'widowed': -1.0, 'willingness': 2.0, 'win': 4.0, 'winner': 4.0, 'winning': 4.0, 'wins': 4.0, 'winwin': 3.0, 'wish': 1.0, 'wishes': 1.0, 'wishing': 1.0, 'withdrawal': -3.0, 'woebegone': -2.0, 'woeful': -3.0, 'won': 3.0, 'wonderful': 4.0, 'woo': 3.0, 'woohoo': 3.0, 'wooo': 4.0, 'woow': 4.0, 'worn': -1.0, 'worried': -3.0, 'worry': -3.0, 'worrying': -3.0, 'worse': -3.0, 'worsen': -3.0, 'worsened': -3.0, 'worsening': -3.0, 'worsens': -3.0, 'worshiped': 3.0, 'worst': -3.0, 'worth': 2.0, 'worthless': -2.0, 'worthy': 2.0, 'wow': 4.0, 'wowow': 4.0, 'wowww': 4.0, 'wrathful': -3.0, 'wreck': -2.0, 'wrong': -2.0, 'wronged': -2.0, 'wtf': -4.0, 'yeah': 1.0, 'yearning': 1.0, 'yeees': 2.0, 'yes': 1.0, 'youthful': 2.0, 'yucky': -2.0, 'yummy': 3.0, 'zealot': -2.0, 'zealots': -2.0, 'zealous': 2.0}\n"
     ]
    }
   ],
   "source": [
    "sentiment_dictionary = load_sentiments(sentiment_file)\n",
    "print(sentiment_dictionary)"
   ]
  },
  {
   "cell_type": "markdown",
   "id": "67b8bfdd",
   "metadata": {},
   "source": [
    "## 1C - Get the Sentiment Score of a \"Clean\" Sentence"
   ]
  },
  {
   "cell_type": "code",
   "execution_count": 8,
   "id": "a16428c9",
   "metadata": {},
   "outputs": [],
   "source": [
    "# use 1A to divide string into words\n",
    "# use 1B's dict to get value(score) of every word; \n",
    "# sum all the scores\n",
    "def text_sentiment(text, senti_dic):\n",
    "    wordsList = extract_words(text)\n",
    "\n",
    "    sumScores = 0\n",
    "\n",
    "    for word in wordsList:\n",
    "        if word in senti_dic:\n",
    "            sumScores = sumScores + senti_dic.get(word) \n",
    "\n",
    "    return sumScores"
   ]
  },
  {
   "cell_type": "code",
   "execution_count": 9,
   "id": "fdee48c0",
   "metadata": {},
   "outputs": [
    {
     "data": {
      "text/plain": [
       "5.0"
      ]
     },
     "execution_count": 9,
     "metadata": {},
     "output_type": "execute_result"
    }
   ],
   "source": [
    "text_sentiment(\"Eating noddles for dinner. I feel like Im back in college lol\", sentiment_dictionary)"
   ]
  },
  {
   "cell_type": "markdown",
   "id": "75749653",
   "metadata": {},
   "source": [
    "# PART 2 - Working with Twitter JSON Files"
   ]
  },
  {
   "cell_type": "markdown",
   "id": "12444d2e",
   "metadata": {},
   "source": [
    "## Preparation - The \"data\" folder contains .txt files we downloaded for further analysis using \"twitter_stream.py\" and Twitter API from the terminal.\n",
    "#### The filenames also contain our search terms when requesting those tweets, e.g.: \"breakfast\".\n",
    "#### We've taken out our own ACCESS_TOKEN_KEY following Twitter's security protocols."
   ]
  },
  {
   "cell_type": "code",
   "execution_count": 10,
   "id": "6a21a78a",
   "metadata": {},
   "outputs": [
    {
     "name": "stdout",
     "output_type": "stream",
     "text": [
      "E:\\jupyter_files_save\\DAMG_6105\\Twitter_Sentiment_Analysis\\data\n"
     ]
    }
   ],
   "source": [
    "data_location = location + \"\\data\"\n",
    "print(data_location)"
   ]
  },
  {
   "cell_type": "code",
   "execution_count": 11,
   "id": "679d9045",
   "metadata": {},
   "outputs": [
    {
     "name": "stdout",
     "output_type": "stream",
     "text": [
      "E:\\jupyter_files_save\\DAMG_6105\\Twitter_Sentiment_Analysis\\data/12.9.2021_breakfast_count100.txt\n"
     ]
    }
   ],
   "source": [
    "twitter_stream_breakfast_file = data_location + \"/12.9.2021_breakfast_count100.txt\"\n",
    "print(twitter_stream_breakfast_file)"
   ]
  },
  {
   "cell_type": "code",
   "execution_count": 12,
   "id": "bc046345",
   "metadata": {},
   "outputs": [
    {
     "name": "stdout",
     "output_type": "stream",
     "text": [
      "E:\\jupyter_files_save\\DAMG_6105\\Twitter_Sentiment_Analysis\\data/12.9.2021_lunch_count100.txt\n"
     ]
    }
   ],
   "source": [
    "twitter_stream_lunch_file = data_location + \"/12.9.2021_lunch_count100.txt\"\n",
    "print(twitter_stream_lunch_file)"
   ]
  },
  {
   "cell_type": "code",
   "execution_count": 13,
   "id": "8e16fd7a",
   "metadata": {},
   "outputs": [
    {
     "name": "stdout",
     "output_type": "stream",
     "text": [
      "E:\\jupyter_files_save\\DAMG_6105\\Twitter_Sentiment_Analysis\\data/12.9.2021_dinner_count100.txt\n"
     ]
    }
   ],
   "source": [
    "twitter_stream_dinner_file = data_location + \"/12.9.2021_dinner_count100.txt\"\n",
    "print(twitter_stream_dinner_file)"
   ]
  },
  {
   "cell_type": "markdown",
   "id": "e0fac8f3",
   "metadata": {},
   "source": [
    "## 2A - Tidy up the Twitter data from JSON string"
   ]
  },
  {
   "cell_type": "code",
   "execution_count": 14,
   "id": "e653499d",
   "metadata": {},
   "outputs": [],
   "source": [
    "# takes in a file containing tweets \n",
    "# returns a list of objects (dictionaries) representing those tweets\n",
    "def load_tweets(tweets_file):\n",
    "    resultList = []\n",
    "    newDict = {}\n",
    "\n",
    "    with open(tweets_file) as txtData:\n",
    "        lines = txtData.readlines()\n",
    "    for line in lines:\n",
    "        line_dict = json.loads(line)\n",
    "\n",
    "        new_dict = {key: line_dict[key] for key in ['created_at', 'text', 'retweet_count', 'favorite_count']}\n",
    "\n",
    "        new_dict['text'] = new_dict['text'].lower()\n",
    "        new_dict['user.screen_name'] = line_dict.get('user').get('screen_name')\n",
    "\n",
    "        new_dict['entities.hashtags[i].text'] = []\n",
    "        hashtagsList = line_dict.get('entities').get('hashtags')\n",
    "        for hashtagDict in hashtagsList:\n",
    "            new_dict['entities.hashtags[i].text'].append(hashtagDict.get('text'))\n",
    "\n",
    "        resultList.append(new_dict)\n",
    "\n",
    "    return resultList"
   ]
  },
  {
   "cell_type": "code",
   "execution_count": 15,
   "id": "e75f3c04",
   "metadata": {},
   "outputs": [
    {
     "data": {
      "text/plain": [
       "[{'created_at': 'Thu Dec 09 23:26:38 +0000 2021',\n",
       "  'text': 'rt @himacomfort: look at the way this cutie sunflower ate her breakfast 💕 https://t.co/y0ojklad7l',\n",
       "  'retweet_count': 67,\n",
       "  'favorite_count': 0,\n",
       "  'user.screen_name': 'NaruHinaHeart',\n",
       "  'entities.hashtags[i].text': []},\n",
       " {'created_at': 'Thu Dec 09 23:44:42 +0000 2021',\n",
       "  'text': '@supreeeme that’s what i’m having for dinner! i didn’t have a taste for anything but needed something on my stomach… https://t.co/ldzgki7cem',\n",
       "  'retweet_count': 0,\n",
       "  'favorite_count': 0,\n",
       "  'user.screen_name': 'LOVESHANNIE87',\n",
       "  'entities.hashtags[i].text': []},\n",
       " {'created_at': 'Thu Dec 09 23:44:42 +0000 2021',\n",
       "  'text': \"@apeach_here don't skip your breakfast, be happy and have a nice day\",\n",
       "  'retweet_count': 0,\n",
       "  'favorite_count': 0,\n",
       "  'user.screen_name': 'onyourwntr',\n",
       "  'entities.hashtags[i].text': []},\n",
       " {'created_at': 'Thu Dec 09 23:44:39 +0000 2021',\n",
       "  'text': \"@nauudoyiee don't skip your breakfast and have a nice day!!\",\n",
       "  'retweet_count': 0,\n",
       "  'favorite_count': 0,\n",
       "  'user.screen_name': 'Naaajefff',\n",
       "  'entities.hashtags[i].text': []},\n",
       " {'created_at': 'Thu Dec 09 23:44:39 +0000 2021',\n",
       "  'text': 'rt @lovisdeli: crepes for brunch, yes, please!!\\n\\n#food #foodie #foodlover #lunch #dinner #calabasas #calabasasfoodie #calabasasfood #calaba…',\n",
       "  'retweet_count': 1,\n",
       "  'favorite_count': 0,\n",
       "  'user.screen_name': 'CalabasasAlive',\n",
       "  'entities.hashtags[i].text': ['food',\n",
       "   'foodie',\n",
       "   'foodlover',\n",
       "   'lunch',\n",
       "   'dinner',\n",
       "   'Calabasas',\n",
       "   'Calabasasfoodie',\n",
       "   'Calabasasfood']},\n",
       " {'created_at': 'Thu Dec 09 23:44:33 +0000 2021',\n",
       "  'text': 'rt @agnicynjnie: @foxyiewz have a nice day, dont skip ur breakfast ok?!',\n",
       "  'retweet_count': 1,\n",
       "  'favorite_count': 0,\n",
       "  'user.screen_name': 'foxyiewz',\n",
       "  'entities.hashtags[i].text': []},\n",
       " {'created_at': 'Thu Dec 09 23:44:33 +0000 2021',\n",
       "  'text': \"@puduuuuuuuuu don't skip ur breakfast yaww!! hv a great day bestiee🐰💗\",\n",
       "  'retweet_count': 0,\n",
       "  'favorite_count': 0,\n",
       "  'user.screen_name': 'kllaliaaa',\n",
       "  'entities.hashtags[i].text': []},\n",
       " {'created_at': 'Thu Dec 09 23:44:31 +0000 2021',\n",
       "  'text': 'rt @themobilegolfer: memorable day at @pueblobonito …so packed i was out shooting at 6am and didn’t get back to my room until 11:30pm\\n\\nbrea…',\n",
       "  'retweet_count': 3,\n",
       "  'favorite_count': 0,\n",
       "  'user.screen_name': 'QuiviraCabos',\n",
       "  'entities.hashtags[i].text': []},\n",
       " {'created_at': 'Thu Dec 09 23:44:31 +0000 2021',\n",
       "  'text': \"@ctrlsweetylee have a great day! don't skip ur breakfast &amp; take a bath. don't forget be grateful &amp; be happy, semangat untuk hari ini!\",\n",
       "  'retweet_count': 0,\n",
       "  'favorite_count': 0,\n",
       "  'user.screen_name': 'haechnjun',\n",
       "  'entities.hashtags[i].text': []},\n",
       " {'created_at': 'Thu Dec 09 23:44:30 +0000 2021',\n",
       "  'text': '@ambber_ goodmorning luv !! eat ur breakfast and dont skip meals !! dont overwork urself and enjoy ur day ^-^  reme… https://t.co/nbywwrpnqz',\n",
       "  'retweet_count': 0,\n",
       "  'favorite_count': 0,\n",
       "  'user.screen_name': 'lvrdnf',\n",
       "  'entities.hashtags[i].text': []},\n",
       " {'created_at': 'Thu Dec 09 23:44:29 +0000 2021',\n",
       "  'text': 'i’ll eat breakfast food alll day. wtf🥴',\n",
       "  'retweet_count': 0,\n",
       "  'favorite_count': 0,\n",
       "  'user.screen_name': 'prettyloaded_',\n",
       "  'entities.hashtags[i].text': []},\n",
       " {'created_at': 'Thu Dec 09 23:44:26 +0000 2021',\n",
       "  'text': 'good morning, ive been happier these days. wear something warm please so that you dont get cold, and eat breakfast lovies!',\n",
       "  'retweet_count': 0,\n",
       "  'favorite_count': 0,\n",
       "  'user.screen_name': 'yjwmailvs',\n",
       "  'entities.hashtags[i].text': []},\n",
       " {'created_at': 'Thu Dec 09 23:44:26 +0000 2021',\n",
       "  'text': '@120yearz @killpop4ever why???? i have a mandatory routine to cum every morning after ,and or during my 1st. cup of… https://t.co/kvaxnqbc7y',\n",
       "  'retweet_count': 0,\n",
       "  'favorite_count': 0,\n",
       "  'user.screen_name': 'Zoeller911',\n",
       "  'entities.hashtags[i].text': []},\n",
       " {'created_at': 'Thu Dec 09 23:44:26 +0000 2021',\n",
       "  'text': '@nparkerrr_ @oldrowaggies breakfast burger every time',\n",
       "  'retweet_count': 0,\n",
       "  'favorite_count': 0,\n",
       "  'user.screen_name': 'austin_lee9',\n",
       "  'entities.hashtags[i].text': []},\n",
       " {'created_at': 'Thu Dec 09 23:44:25 +0000 2021',\n",
       "  'text': 'rt @dreamjeons: he climbed up a mountain to get a chunk of snow for jimin because he likes it, covered a song at 4am after namjoon asked hi…',\n",
       "  'retweet_count': 61,\n",
       "  'favorite_count': 0,\n",
       "  'user.screen_name': 'Vantaeta3',\n",
       "  'entities.hashtags[i].text': []},\n",
       " {'created_at': 'Thu Dec 09 23:44:25 +0000 2021',\n",
       "  'text': \"@pudurichan don't skip your breakfast and have a nice day!!\",\n",
       "  'retweet_count': 0,\n",
       "  'favorite_count': 0,\n",
       "  'user.screen_name': 'Naaajefff',\n",
       "  'entities.hashtags[i].text': []},\n",
       " {'created_at': 'Thu Dec 09 23:44:23 +0000 2021',\n",
       "  'text': 'rt @nhk_musicjp: ／\\n💎#ザ少年倶楽部💎\\nテーマは2021🔥\\n＼\\n\\n🎵infighter / #snowman\\n🎵strawberry breakfast / #sixtones\\n🎵together now / #travisjapan\\n🎵attack it!…',\n",
       "  'retweet_count': 850,\n",
       "  'favorite_count': 0,\n",
       "  'user.screen_name': 'ooooosakana',\n",
       "  'entities.hashtags[i].text': ['ザ少年倶楽部',\n",
       "   'SnowMan',\n",
       "   'SixTONES',\n",
       "   'TravisJapan']},\n",
       " {'created_at': 'Thu Dec 09 23:44:22 +0000 2021',\n",
       "  'text': '@boxingfanfed fuck outta here, ain’t no breakfast like some mexican food!',\n",
       "  'retweet_count': 0,\n",
       "  'favorite_count': 0,\n",
       "  'user.screen_name': 'Abnasty210',\n",
       "  'entities.hashtags[i].text': []},\n",
       " {'created_at': 'Thu Dec 09 23:44:22 +0000 2021',\n",
       "  'text': \"rt @pumpknpatchsoap: from rainbows to breakfast to crystals to horror and everything in between. there's a soap for every style and all mad…\",\n",
       "  'retweet_count': 24,\n",
       "  'favorite_count': 0,\n",
       "  'user.screen_name': 'MugsofFunGifts',\n",
       "  'entities.hashtags[i].text': []},\n",
       " {'created_at': 'Thu Dec 09 23:44:20 +0000 2021',\n",
       "  'text': 'champorado, pansit canton and lumpiang togue for breakfast ❤️👅',\n",
       "  'retweet_count': 0,\n",
       "  'favorite_count': 0,\n",
       "  'user.screen_name': 'JinPampanga',\n",
       "  'entities.hashtags[i].text': []},\n",
       " {'created_at': 'Thu Dec 09 23:44:19 +0000 2021',\n",
       "  'text': \"@yeribandungg don't forget to have breakfast&lt;3\",\n",
       "  'retweet_count': 0,\n",
       "  'favorite_count': 0,\n",
       "  'user.screen_name': '4yonGf',\n",
       "  'entities.hashtags[i].text': []},\n",
       " {'created_at': 'Thu Dec 09 23:44:18 +0000 2021',\n",
       "  'text': 'siapa kat jb? breakfast jom!',\n",
       "  'retweet_count': 0,\n",
       "  'favorite_count': 0,\n",
       "  'user.screen_name': 'faeq_aizat',\n",
       "  'entities.hashtags[i].text': []},\n",
       " {'created_at': 'Thu Dec 09 23:44:16 +0000 2021',\n",
       "  'text': '@demonightt have a nice day, don’t skip ur breakfast be happy ryan&lt;33',\n",
       "  'retweet_count': 0,\n",
       "  'favorite_count': 0,\n",
       "  'user.screen_name': 'arlethaalee',\n",
       "  'entities.hashtags[i].text': []},\n",
       " {'created_at': 'Thu Dec 09 23:44:16 +0000 2021',\n",
       "  'text': '@kalixtarr goodmorning bff !! eat ur breakfast and dont skip meals !! dont overwork urself and enjoy ur day ^-^  re… https://t.co/0v9vrcquej',\n",
       "  'retweet_count': 0,\n",
       "  'favorite_count': 0,\n",
       "  'user.screen_name': 'lvrdnf',\n",
       "  'entities.hashtags[i].text': []},\n",
       " {'created_at': 'Thu Dec 09 23:44:15 +0000 2021',\n",
       "  'text': 'it\\'s the holiday season!\\n\\nto get into the holiday cheer, we were so excited to serve breakfast at today\\'s \"shop wit… https://t.co/fdexktq0n7',\n",
       "  'retweet_count': 0,\n",
       "  'favorite_count': 0,\n",
       "  'user.screen_name': 'amicicatering',\n",
       "  'entities.hashtags[i].text': []},\n",
       " {'created_at': 'Thu Dec 09 23:44:14 +0000 2021',\n",
       "  'text': 'rt @nhk_hensei: ✨#少クラ✨\\n\\n#snowman ♪infighter\\n#sixtones ♪strawberry breakfast\\n#travisjapan ♪together now\\n#hihijets ♪attack it!\\n#美少年 ♪虹の中で\\n\\nお悩…',\n",
       "  'retweet_count': 2388,\n",
       "  'favorite_count': 0,\n",
       "  'user.screen_name': 'pinkx625x',\n",
       "  'entities.hashtags[i].text': ['少クラ',\n",
       "   'SnowMan',\n",
       "   'SixTONES',\n",
       "   'TravisJapan',\n",
       "   'HiHiJets',\n",
       "   '美少年']},\n",
       " {'created_at': 'Thu Dec 09 23:44:14 +0000 2021',\n",
       "  'text': \"rt @cat_cosplay: just informed them there won't be a second breakfast... nor an elevenses. https://t.co/agyojrvhxl\",\n",
       "  'retweet_count': 18431,\n",
       "  'favorite_count': 0,\n",
       "  'user.screen_name': 'inloveinwonder',\n",
       "  'entities.hashtags[i].text': []},\n",
       " {'created_at': 'Thu Dec 09 23:44:13 +0000 2021',\n",
       "  'text': \"@chaanotcaa don't skip ur breakfast and happy a nice day ! &lt;33\",\n",
       "  'retweet_count': 0,\n",
       "  'favorite_count': 0,\n",
       "  'user.screen_name': 'fluffyberrycgfs',\n",
       "  'entities.hashtags[i].text': []},\n",
       " {'created_at': 'Thu Dec 09 23:44:13 +0000 2021',\n",
       "  'text': 'doing breakfast omad tmrrrr so i can fast until i go to look at xmas lights on saturday.. only doing that so i can… https://t.co/hdj9uev8nd',\n",
       "  'retweet_count': 0,\n",
       "  'favorite_count': 0,\n",
       "  'user.screen_name': 's4tansp0',\n",
       "  'entities.hashtags[i].text': []},\n",
       " {'created_at': 'Thu Dec 09 23:44:12 +0000 2021',\n",
       "  'text': '@pbrghart type in everything for me while i eat breakfast',\n",
       "  'retweet_count': 0,\n",
       "  'favorite_count': 1,\n",
       "  'user.screen_name': 'kou_DP',\n",
       "  'entities.hashtags[i].text': []},\n",
       " {'created_at': 'Thu Dec 09 23:44:11 +0000 2021',\n",
       "  'text': 'i’m so hungry all i’ve had to eat today was like. 5 shitty chicken nuggets bc i forgot to eat breakfast i’m really losing here',\n",
       "  'retweet_count': 0,\n",
       "  'favorite_count': 1,\n",
       "  'user.screen_name': 'gordnstanheight',\n",
       "  'entities.hashtags[i].text': []},\n",
       " {'created_at': 'Thu Dec 09 23:44:06 +0000 2021',\n",
       "  'text': \"@scoupshugz_ don't skip ur breakfast and happy a nice day ! &lt;33\",\n",
       "  'retweet_count': 0,\n",
       "  'favorite_count': 0,\n",
       "  'user.screen_name': 'fluffyberrycgfs',\n",
       "  'entities.hashtags[i].text': []},\n",
       " {'created_at': 'Thu Dec 09 23:44:04 +0000 2021',\n",
       "  'text': '@bonngbudi pagi uncle, dont skip your breakfast and have a nice day✨ #jumatberkah',\n",
       "  'retweet_count': 0,\n",
       "  'favorite_count': 0,\n",
       "  'user.screen_name': 'shotcityx',\n",
       "  'entities.hashtags[i].text': ['JumatBerkah']},\n",
       " {'created_at': 'Thu Dec 09 23:44:04 +0000 2021',\n",
       "  'text': 'rt @nhk_musicjp: ／\\n💎#ザ少年倶楽部💎\\nテーマは2021🔥\\n＼\\n\\n🎵infighter / #snowman\\n🎵strawberry breakfast / #sixtones\\n🎵together now / #travisjapan\\n🎵attack it!…',\n",
       "  'retweet_count': 850,\n",
       "  'favorite_count': 0,\n",
       "  'user.screen_name': 'nashi19523990',\n",
       "  'entities.hashtags[i].text': ['ザ少年倶楽部',\n",
       "   'SnowMan',\n",
       "   'SixTONES',\n",
       "   'TravisJapan']},\n",
       " {'created_at': 'Thu Dec 09 23:44:03 +0000 2021',\n",
       "  'text': \"rt @cat_cosplay: just informed them there won't be a second breakfast... nor an elevenses. https://t.co/agyojrvhxl\",\n",
       "  'retweet_count': 18431,\n",
       "  'favorite_count': 0,\n",
       "  'user.screen_name': 'MissVeeBlack',\n",
       "  'entities.hashtags[i].text': []},\n",
       " {'created_at': 'Thu Dec 09 23:44:03 +0000 2021',\n",
       "  'text': 'rt @mrhenry404: what about second breakfast? https://t.co/5ejhu5p0li',\n",
       "  'retweet_count': 89,\n",
       "  'favorite_count': 0,\n",
       "  'user.screen_name': 'bmenezes',\n",
       "  'entities.hashtags[i].text': []},\n",
       " {'created_at': 'Thu Dec 09 23:44:00 +0000 2021',\n",
       "  'text': 'breakfast in bed shuta hahaha',\n",
       "  'retweet_count': 0,\n",
       "  'favorite_count': 0,\n",
       "  'user.screen_name': 'Achuchu14404311',\n",
       "  'entities.hashtags[i].text': []},\n",
       " {'created_at': 'Thu Dec 09 23:43:59 +0000 2021',\n",
       "  'text': 'rt @rossandrussel: and the favourite salutes!\\n\\ngreat work, damo 🤣\\nhttps://t.co/ce768kkbwg',\n",
       "  'retweet_count': 1,\n",
       "  'favorite_count': 0,\n",
       "  'user.screen_name': '3AW693',\n",
       "  'entities.hashtags[i].text': []},\n",
       " {'created_at': 'Thu Dec 09 23:43:58 +0000 2021',\n",
       "  'text': 'rt @hazardouswalnut: a plate of english breakfast for you❤❤❤ https://t.co/c657fw6esa',\n",
       "  'retweet_count': 51,\n",
       "  'favorite_count': 0,\n",
       "  'user.screen_name': 'mymeina',\n",
       "  'entities.hashtags[i].text': []},\n",
       " {'created_at': 'Thu Dec 09 23:43:57 +0000 2021',\n",
       "  'text': 'breakfast for dinner with a red beer 🙌🏼',\n",
       "  'retweet_count': 0,\n",
       "  'favorite_count': 0,\n",
       "  'user.screen_name': 'dhobson10',\n",
       "  'entities.hashtags[i].text': []},\n",
       " {'created_at': 'Thu Dec 09 23:43:57 +0000 2021',\n",
       "  'text': 'rt @nhk_hensei: ✨#少クラ✨\\n\\n#snowman ♪infighter\\n#sixtones ♪strawberry breakfast\\n#travisjapan ♪together now\\n#hihijets ♪attack it!\\n#美少年 ♪虹の中で\\n\\nお悩…',\n",
       "  'retweet_count': 2388,\n",
       "  'favorite_count': 0,\n",
       "  'user.screen_name': 'genta_419_tj',\n",
       "  'entities.hashtags[i].text': ['少クラ',\n",
       "   'SnowMan',\n",
       "   'SixTONES',\n",
       "   'TravisJapan',\n",
       "   'HiHiJets',\n",
       "   '美少年']},\n",
       " {'created_at': 'Thu Dec 09 23:43:56 +0000 2021',\n",
       "  'text': \"rt @cat_cosplay: just informed them there won't be a second breakfast... nor an elevenses. https://t.co/agyojrvhxl\",\n",
       "  'retweet_count': 18431,\n",
       "  'favorite_count': 0,\n",
       "  'user.screen_name': 'uzumakilovebot',\n",
       "  'entities.hashtags[i].text': []},\n",
       " {'created_at': 'Thu Dec 09 23:43:56 +0000 2021',\n",
       "  'text': \"@skukzzybae rise and shine unnie ☀. rajin banget ya pagi-pagi udah on aja hehe\\ndon't forget to eat you breakfast, b… https://t.co/dyotbsjopc\",\n",
       "  'retweet_count': 0,\n",
       "  'favorite_count': 0,\n",
       "  'user.screen_name': 'cancvas',\n",
       "  'entities.hashtags[i].text': []},\n",
       " {'created_at': 'Thu Dec 09 23:43:55 +0000 2021',\n",
       "  'text': '@sksgab kain breakfast then you sleep again, wokie? &gt;:(',\n",
       "  'retweet_count': 0,\n",
       "  'favorite_count': 0,\n",
       "  'user.screen_name': 'plantitoz',\n",
       "  'entities.hashtags[i].text': []},\n",
       " {'created_at': 'Thu Dec 09 23:43:55 +0000 2021',\n",
       "  'text': \"@chanhoneys don't skip ur breakfast and happy a nice day ! &lt;33\",\n",
       "  'retweet_count': 0,\n",
       "  'favorite_count': 0,\n",
       "  'user.screen_name': 'fluffyberrycgfs',\n",
       "  'entities.hashtags[i].text': []},\n",
       " {'created_at': 'Thu Dec 09 23:43:53 +0000 2021',\n",
       "  'text': '@txtily304 have a nice day, dont skip ur breakfast ok?!',\n",
       "  'retweet_count': 0,\n",
       "  'favorite_count': 0,\n",
       "  'user.screen_name': 'agnicynjnie',\n",
       "  'entities.hashtags[i].text': []},\n",
       " {'created_at': 'Thu Dec 09 23:43:49 +0000 2021',\n",
       "  'text': 'today’s hectic day ends with #bakingbacon breakfast for dinner at #zouainmanor . #zouainentertainment #getnoticed… https://t.co/kcinnfo6s0',\n",
       "  'retweet_count': 0,\n",
       "  'favorite_count': 0,\n",
       "  'user.screen_name': 'DJZouain',\n",
       "  'entities.hashtags[i].text': ['bakingbacon',\n",
       "   'ZouainManor',\n",
       "   'ZouainEntertainment',\n",
       "   'GetNoticed']},\n",
       " {'created_at': 'Thu Dec 09 23:43:48 +0000 2021',\n",
       "  'text': \"@ksunoonly have a great day, don't forget to your breakfast, n stay healthy n take care💗 be happy always keep smile every day love u❤️\",\n",
       "  'retweet_count': 0,\n",
       "  'favorite_count': 0,\n",
       "  'user.screen_name': 'masdepkiim',\n",
       "  'entities.hashtags[i].text': []},\n",
       " {'created_at': 'Thu Dec 09 23:43:47 +0000 2021',\n",
       "  'text': '@foxyiewz have a nice day, dont skip ur breakfast ok?!',\n",
       "  'retweet_count': 1,\n",
       "  'favorite_count': 1,\n",
       "  'user.screen_name': 'agnicynjnie',\n",
       "  'entities.hashtags[i].text': []},\n",
       " {'created_at': 'Thu Dec 09 23:43:46 +0000 2021',\n",
       "  'text': 'popcorn 200\\nviscount 75\\nberries 55\\nchew 200\\nbirthday 400  \\nbreakfast 50\\noat milk 50 \\n\\nprobably overestimating a lit… https://t.co/nmodwb0tsa',\n",
       "  'retweet_count': 0,\n",
       "  'favorite_count': 0,\n",
       "  'user.screen_name': 'smallplease_',\n",
       "  'entities.hashtags[i].text': []},\n",
       " {'created_at': 'Thu Dec 09 23:43:45 +0000 2021',\n",
       "  'text': \"@doosicheng have a great day! don't skip ur breakfast &amp; take a bath. don't forget be grateful &amp; be happy, semangat untuk hari ini!\",\n",
       "  'retweet_count': 0,\n",
       "  'favorite_count': 0,\n",
       "  'user.screen_name': 'haechnjun',\n",
       "  'entities.hashtags[i].text': []},\n",
       " {'created_at': 'Thu Dec 09 23:43:45 +0000 2021',\n",
       "  'text': \"rt @cat_cosplay: just informed them there won't be a second breakfast... nor an elevenses. https://t.co/agyojrvhxl\",\n",
       "  'retweet_count': 18431,\n",
       "  'favorite_count': 0,\n",
       "  'user.screen_name': 'tealcityx',\n",
       "  'entities.hashtags[i].text': []},\n",
       " {'created_at': 'Thu Dec 09 23:43:45 +0000 2021',\n",
       "  'text': '@dheyeol aloo ka deyyy,,, udh breakfast blomm niee??',\n",
       "  'retweet_count': 0,\n",
       "  'favorite_count': 0,\n",
       "  'user.screen_name': 'dohyonncityxz',\n",
       "  'entities.hashtags[i].text': []},\n",
       " {'created_at': 'Thu Dec 09 23:43:45 +0000 2021',\n",
       "  'text': '@sk8ivr good morning^^ kain ka na ng breakfast',\n",
       "  'retweet_count': 0,\n",
       "  'favorite_count': 1,\n",
       "  'user.screen_name': 'nadapasayu',\n",
       "  'entities.hashtags[i].text': []},\n",
       " {'created_at': 'Thu Dec 09 23:43:42 +0000 2021',\n",
       "  'text': \"@cpykhj don't skip ur breakfast and happy a nice day ! &lt;33\",\n",
       "  'retweet_count': 0,\n",
       "  'favorite_count': 0,\n",
       "  'user.screen_name': 'fluffyberrycgfs',\n",
       "  'entities.hashtags[i].text': []},\n",
       " {'created_at': 'Thu Dec 09 23:43:42 +0000 2021',\n",
       "  'text': '@rrevlxy have a nice day, dont skip ur breakfast ok?!',\n",
       "  'retweet_count': 0,\n",
       "  'favorite_count': 0,\n",
       "  'user.screen_name': 'agnicynjnie',\n",
       "  'entities.hashtags[i].text': []},\n",
       " {'created_at': 'Thu Dec 09 23:43:40 +0000 2021',\n",
       "  'text': \"@haikalcc have a great day! don't skip ur breakfast &amp; take a bath. don't forget be grateful &amp; be happy, semangat untuk hari ini!\",\n",
       "  'retweet_count': 0,\n",
       "  'favorite_count': 0,\n",
       "  'user.screen_name': 'haechnjun',\n",
       "  'entities.hashtags[i].text': []},\n",
       " {'created_at': 'Thu Dec 09 23:43:40 +0000 2021',\n",
       "  'text': \"@wulanieepeach__ have a great day, don't forget to your breakfast, n stay healthy n take care💗 be happy always keep smile every day love u❤️\",\n",
       "  'retweet_count': 0,\n",
       "  'favorite_count': 0,\n",
       "  'user.screen_name': 'masdepkiim',\n",
       "  'entities.hashtags[i].text': []},\n",
       " {'created_at': 'Thu Dec 09 23:43:37 +0000 2021',\n",
       "  'text': \"@tuanmudajaemin have a great day! don't skip ur breakfast &amp; take a bath. don't forget be grateful &amp; be happy, semangat untuk hari ini!\",\n",
       "  'retweet_count': 0,\n",
       "  'favorite_count': 0,\n",
       "  'user.screen_name': 'haechnjun',\n",
       "  'entities.hashtags[i].text': []},\n",
       " {'created_at': 'Thu Dec 09 23:43:36 +0000 2021',\n",
       "  'text': '@xxyeonnie have a nice day, dont skip ur breakfast ok?!',\n",
       "  'retweet_count': 0,\n",
       "  'favorite_count': 0,\n",
       "  'user.screen_name': 'agnicynjnie',\n",
       "  'entities.hashtags[i].text': []},\n",
       " {'created_at': 'Thu Dec 09 23:43:35 +0000 2021',\n",
       "  'text': \"@fushikley halo juga cantik, have a nice day too! don't skip your breakfast ya shaka.\",\n",
       "  'retweet_count': 0,\n",
       "  'favorite_count': 0,\n",
       "  'user.screen_name': 'ayybiches',\n",
       "  'entities.hashtags[i].text': []},\n",
       " {'created_at': 'Thu Dec 09 23:43:32 +0000 2021',\n",
       "  'text': 'rt @mrhenry404: what about second breakfast? https://t.co/5ejhu5p0li',\n",
       "  'retweet_count': 89,\n",
       "  'favorite_count': 0,\n",
       "  'user.screen_name': 'ryantattershall',\n",
       "  'entities.hashtags[i].text': []},\n",
       " {'created_at': 'Thu Dec 09 23:43:31 +0000 2021',\n",
       "  'text': '#10 japanese breakfast - be sweet \\nhttps://t.co/qb9vmgqwz0',\n",
       "  'retweet_count': 0,\n",
       "  'favorite_count': 2,\n",
       "  'user.screen_name': 'cautiwm',\n",
       "  'entities.hashtags[i].text': []},\n",
       " {'created_at': 'Thu Dec 09 23:43:30 +0000 2021',\n",
       "  'text': '@seoviors good morning isa!! sana nag breakfast kana!',\n",
       "  'retweet_count': 0,\n",
       "  'favorite_count': 0,\n",
       "  'user.screen_name': 'soloistgaeul',\n",
       "  'entities.hashtags[i].text': []},\n",
       " {'created_at': 'Thu Dec 09 23:43:30 +0000 2021',\n",
       "  'text': 'rt @atetasha24: morning! rise&amp;grind! got to end the week strong. you can do it!\\n\\nstarting your day with amo’s daily updates from palawan. a…',\n",
       "  'retweet_count': 22,\n",
       "  'favorite_count': 0,\n",
       "  'user.screen_name': 'fangirlmoako',\n",
       "  'entities.hashtags[i].text': []},\n",
       " {'created_at': 'Thu Dec 09 23:43:29 +0000 2021',\n",
       "  'text': \"rt @cat_cosplay: just informed them there won't be a second breakfast... nor an elevenses. https://t.co/agyojrvhxl\",\n",
       "  'retweet_count': 18431,\n",
       "  'favorite_count': 0,\n",
       "  'user.screen_name': 'randomlego87',\n",
       "  'entities.hashtags[i].text': []},\n",
       " {'created_at': 'Thu Dec 09 23:43:27 +0000 2021',\n",
       "  'text': 'rt @suiyyiuris: when you go to tue breakfast @placewar_game     @carlotzane @luffarelli #placewar, #nftgame e #metaverse https://t.co/yizyu…',\n",
       "  'retweet_count': 6,\n",
       "  'favorite_count': 0,\n",
       "  'user.screen_name': 'GigNft',\n",
       "  'entities.hashtags[i].text': ['PlaceWar', 'NFTGame', 'Metaverse']},\n",
       " {'created_at': 'Thu Dec 09 23:43:24 +0000 2021',\n",
       "  'text': 'rt @americanatheist: breaking: senator tim kaine is dropping the national prayer breakfast, reports @jtlarsen. this is big news because kai…',\n",
       "  'retweet_count': 54,\n",
       "  'favorite_count': 0,\n",
       "  'user.screen_name': 'AndreWillingha2',\n",
       "  'entities.hashtags[i].text': []},\n",
       " {'created_at': 'Thu Dec 09 23:43:21 +0000 2021',\n",
       "  'text': \"good morning everyone don't forget to eat breakfast\",\n",
       "  'retweet_count': 0,\n",
       "  'favorite_count': 0,\n",
       "  'user.screen_name': 'thinkinghannie',\n",
       "  'entities.hashtags[i].text': []},\n",
       " {'created_at': 'Thu Dec 09 23:43:21 +0000 2021',\n",
       "  'text': \"@loaviechan sipp, good morning!! 🌷\\ndon't forget to breakfast 🍳 and take a bath bestiee-!!🚿\\nhave a good dayy🤩, don't forget to smile too😃\",\n",
       "  'retweet_count': 0,\n",
       "  'favorite_count': 0,\n",
       "  'user.screen_name': 'laaxuxi',\n",
       "  'entities.hashtags[i].text': []},\n",
       " {'created_at': 'Thu Dec 09 23:43:18 +0000 2021',\n",
       "  'text': \"@jmrtrssunbear have a great day! don't skip ur breakfast &amp; take a bath. don't forget be grateful &amp; be happy, semangat untuk hari ini!\",\n",
       "  'retweet_count': 0,\n",
       "  'favorite_count': 1,\n",
       "  'user.screen_name': 'haechnjun',\n",
       "  'entities.hashtags[i].text': []},\n",
       " {'created_at': 'Thu Dec 09 23:43:18 +0000 2021',\n",
       "  'text': 'nak pergi breakfast kat pakli kopitiam ah. dah lama tak makan sorang2 dah lama tak me time tiber😂',\n",
       "  'retweet_count': 0,\n",
       "  'favorite_count': 0,\n",
       "  'user.screen_name': 'sakinahtarmizi',\n",
       "  'entities.hashtags[i].text': []},\n",
       " {'created_at': 'Thu Dec 09 23:43:17 +0000 2021',\n",
       "  'text': 'rt @sugaarrbaby: i know we laugh it off here and call it being served “breakfast” but it’s cruel stringing people along. be in a relationsh…',\n",
       "  'retweet_count': 1107,\n",
       "  'favorite_count': 0,\n",
       "  'user.screen_name': 'TheGbemms',\n",
       "  'entities.hashtags[i].text': []},\n",
       " {'created_at': 'Thu Dec 09 23:43:17 +0000 2021',\n",
       "  'text': 'rt @fikz_the_cook: prettiest breakfast i have done this year🥰🥰 https://t.co/pp6gtysbyl',\n",
       "  'retweet_count': 338,\n",
       "  'favorite_count': 0,\n",
       "  'user.screen_name': 'anichols_17',\n",
       "  'entities.hashtags[i].text': []},\n",
       " {'created_at': 'Thu Dec 09 23:43:17 +0000 2021',\n",
       "  'text': '@rubiesrid good morning!! eat breakfast and have a great day!!!',\n",
       "  'retweet_count': 0,\n",
       "  'favorite_count': 0,\n",
       "  'user.screen_name': 'rnnique',\n",
       "  'entities.hashtags[i].text': []},\n",
       " {'created_at': 'Thu Dec 09 23:43:17 +0000 2021',\n",
       "  'text': 'breakfast for supper always hits',\n",
       "  'retweet_count': 0,\n",
       "  'favorite_count': 0,\n",
       "  'user.screen_name': 'ChadYarbrough1',\n",
       "  'entities.hashtags[i].text': []},\n",
       " {'created_at': 'Thu Dec 09 23:43:17 +0000 2021',\n",
       "  'text': 'rt @zuzuri: liver and banana is a top tier breakfast',\n",
       "  'retweet_count': 30,\n",
       "  'favorite_count': 0,\n",
       "  'user.screen_name': 'ZexiAllyy',\n",
       "  'entities.hashtags[i].text': []},\n",
       " {'created_at': 'Thu Dec 09 23:43:16 +0000 2021',\n",
       "  'text': '@rydpta have a nice day, don’t skip ur breakfast be happy dipta&lt;33',\n",
       "  'retweet_count': 0,\n",
       "  'favorite_count': 0,\n",
       "  'user.screen_name': 'arlethaalee',\n",
       "  'entities.hashtags[i].text': []},\n",
       " {'created_at': 'Thu Dec 09 23:43:16 +0000 2021',\n",
       "  'text': '@aquarius_7o yo i really love cold pizza for breakfast haha',\n",
       "  'retweet_count': 0,\n",
       "  'favorite_count': 0,\n",
       "  'user.screen_name': 'markee2504',\n",
       "  'entities.hashtags[i].text': []},\n",
       " {'created_at': 'Thu Dec 09 23:43:16 +0000 2021',\n",
       "  'text': '@brianbrooksus @johnedeaton1 @ripple that’s how you stay sharp. i guess you eat a heavy breakfast.',\n",
       "  'retweet_count': 0,\n",
       "  'favorite_count': 0,\n",
       "  'user.screen_name': 'SourceD20',\n",
       "  'entities.hashtags[i].text': []},\n",
       " {'created_at': 'Thu Dec 09 23:43:14 +0000 2021',\n",
       "  'text': 'and the favourite salutes!\\n\\ngreat work, damo 🤣\\nhttps://t.co/ce768kkbwg',\n",
       "  'retweet_count': 1,\n",
       "  'favorite_count': 2,\n",
       "  'user.screen_name': 'RossAndRussel',\n",
       "  'entities.hashtags[i].text': []},\n",
       " {'created_at': 'Thu Dec 09 23:43:14 +0000 2021',\n",
       "  'text': \"@ionjwini have a nice day,don't skip your breakfast🙆🏻\\u200d♀️\",\n",
       "  'retweet_count': 0,\n",
       "  'favorite_count': 0,\n",
       "  'user.screen_name': 'jcneivrs',\n",
       "  'entities.hashtags[i].text': []},\n",
       " {'created_at': 'Thu Dec 09 23:43:14 +0000 2021',\n",
       "  'text': \"haven't started the new dexter yet, does it still have the same intro? always looked like a cracking breakfast. hun… https://t.co/tozflr2j3g\",\n",
       "  'retweet_count': 0,\n",
       "  'favorite_count': 0,\n",
       "  'user.screen_name': 'tommygallacher',\n",
       "  'entities.hashtags[i].text': []},\n",
       " {'created_at': 'Thu Dec 09 23:43:14 +0000 2021',\n",
       "  'text': \"@zkdlinkaixo have a great day! don't skip ur breakfast &amp; take a bath. don't forget be grateful &amp; be happy, semangat untuk hari ini!\",\n",
       "  'retweet_count': 0,\n",
       "  'favorite_count': 0,\n",
       "  'user.screen_name': 'haechnjun',\n",
       "  'entities.hashtags[i].text': []},\n",
       " {'created_at': 'Thu Dec 09 23:43:12 +0000 2021',\n",
       "  'text': 'rt @wendy_harmer: ready to take \\u2066@abcsydney\\u2069 breakfast for one last spin around the block 👋 https://t.co/s9vbmv4ag6',\n",
       "  'retweet_count': 88,\n",
       "  'favorite_count': 0,\n",
       "  'user.screen_name': 'JSSciencefocus',\n",
       "  'entities.hashtags[i].text': []},\n",
       " {'created_at': 'Thu Dec 09 23:43:12 +0000 2021',\n",
       "  'text': 'breakfast - reflection paper',\n",
       "  'retweet_count': 0,\n",
       "  'favorite_count': 0,\n",
       "  'user.screen_name': 'living_moana',\n",
       "  'entities.hashtags[i].text': []},\n",
       " {'created_at': 'Thu Dec 09 23:43:10 +0000 2021',\n",
       "  'text': 'some days it’s lunch. some days brunch. some days a snack. others, something to tide you over. maybe even a late br… https://t.co/qamwn7tloe',\n",
       "  'retweet_count': 0,\n",
       "  'favorite_count': 0,\n",
       "  'user.screen_name': 'MasonTV',\n",
       "  'entities.hashtags[i].text': []},\n",
       " {'created_at': 'Thu Dec 09 23:43:10 +0000 2021',\n",
       "  'text': \"@djmark___ have a great day! don't skip ur breakfast &amp; take a bath. don't forget be grateful &amp; be happy, semangat untuk hari ini!\",\n",
       "  'retweet_count': 0,\n",
       "  'favorite_count': 0,\n",
       "  'user.screen_name': 'haechnjun',\n",
       "  'entities.hashtags[i].text': []},\n",
       " {'created_at': 'Thu Dec 09 23:43:10 +0000 2021',\n",
       "  'text': 'rt @mauiposa: shan lopez as a \"friend\" within 4 chapters of oye\\n\\n1. making coffee for you in the morning\\n2. \"after-care\" including breakfas…',\n",
       "  'retweet_count': 186,\n",
       "  'favorite_count': 0,\n",
       "  'user.screen_name': 'zai_la_',\n",
       "  'entities.hashtags[i].text': []},\n",
       " {'created_at': 'Thu Dec 09 23:43:09 +0000 2021',\n",
       "  'text': '@navyspook77 @ladyjaypersists i got a 100lb puppy you could borrow.  just have her back by breakfast or she gets cr… https://t.co/alkpuhnjaj',\n",
       "  'retweet_count': 0,\n",
       "  'favorite_count': 0,\n",
       "  'user.screen_name': 'SuperSQUID19',\n",
       "  'entities.hashtags[i].text': []},\n",
       " {'created_at': 'Thu Dec 09 23:43:09 +0000 2021',\n",
       "  'text': '@klndr00 dont forget ur breakfast kak! and have a nice day too 🙆🏻\\u200d♀️⛅',\n",
       "  'retweet_count': 0,\n",
       "  'favorite_count': 0,\n",
       "  'user.screen_name': 'loafnrn',\n",
       "  'entities.hashtags[i].text': []},\n",
       " {'created_at': 'Thu Dec 09 23:43:07 +0000 2021',\n",
       "  'text': \"@jmine00 have a nice day,don't skip your breakfast🙆🏻\\u200d♀️\",\n",
       "  'retweet_count': 0,\n",
       "  'favorite_count': 0,\n",
       "  'user.screen_name': 'jcneivrs',\n",
       "  'entities.hashtags[i].text': []},\n",
       " {'created_at': 'Thu Dec 09 23:43:07 +0000 2021',\n",
       "  'text': \"@fullsnn_00 have a great day! don't skip ur breakfast &amp; take a bath. don't forget be grateful &amp; be happy, semangat untuk hari ini!\",\n",
       "  'retweet_count': 0,\n",
       "  'favorite_count': 0,\n",
       "  'user.screen_name': 'haechnjun',\n",
       "  'entities.hashtags[i].text': []},\n",
       " {'created_at': 'Thu Dec 09 23:43:07 +0000 2021',\n",
       "  'text': \"@kn1308j don't skip your breakfast, be happy and have a nice day\",\n",
       "  'retweet_count': 0,\n",
       "  'favorite_count': 0,\n",
       "  'user.screen_name': 'onyourwntr',\n",
       "  'entities.hashtags[i].text': []},\n",
       " {'created_at': 'Thu Dec 09 23:43:06 +0000 2021',\n",
       "  'text': \"@90minse0k hv a great day thea imy ! don't forget to eat ur breakfast !\",\n",
       "  'retweet_count': 0,\n",
       "  'favorite_count': 0,\n",
       "  'user.screen_name': 'ioveschng',\n",
       "  'entities.hashtags[i].text': []},\n",
       " {'created_at': 'Thu Dec 09 23:43:05 +0000 2021',\n",
       "  'text': 'rt @nhk_musicjp: ／\\n💎#ザ少年倶楽部💎\\nテーマは2021🔥\\n＼\\n\\n🎵infighter / #snowman\\n🎵strawberry breakfast / #sixtones\\n🎵together now / #travisjapan\\n🎵attack it!…',\n",
       "  'retweet_count': 850,\n",
       "  'favorite_count': 0,\n",
       "  'user.screen_name': 'byebye___kiiin',\n",
       "  'entities.hashtags[i].text': ['ザ少年倶楽部',\n",
       "   'SnowMan',\n",
       "   'SixTONES',\n",
       "   'TravisJapan']},\n",
       " {'created_at': 'Thu Dec 09 23:43:04 +0000 2021',\n",
       "  'text': '@zea_sht hi, eat your breakfast na &amp; have a nice dayyy ♡',\n",
       "  'retweet_count': 0,\n",
       "  'favorite_count': 0,\n",
       "  'user.screen_name': 'theagustbabie',\n",
       "  'entities.hashtags[i].text': []},\n",
       " {'created_at': 'Thu Dec 09 23:43:03 +0000 2021',\n",
       "  'text': \"rt @cat_cosplay: just informed them there won't be a second breakfast... nor an elevenses. https://t.co/agyojrvhxl\",\n",
       "  'retweet_count': 18431,\n",
       "  'favorite_count': 0,\n",
       "  'user.screen_name': 'KausticKatze',\n",
       "  'entities.hashtags[i].text': []},\n",
       " {'created_at': 'Thu Dec 09 23:43:03 +0000 2021',\n",
       "  'text': \"@___246smf have a great day! don't skip ur breakfast &amp; take a bath. don't forget be grateful &amp; be happy, semangat untuk hari ini!\",\n",
       "  'retweet_count': 0,\n",
       "  'favorite_count': 0,\n",
       "  'user.screen_name': 'haechnjun',\n",
       "  'entities.hashtags[i].text': []},\n",
       " {'created_at': 'Thu Dec 09 23:43:02 +0000 2021',\n",
       "  'text': '@ryxilyr dont forget ur breakfast kak! and have a nice day too 🙆🏻\\u200d♀️⛅',\n",
       "  'retweet_count': 0,\n",
       "  'favorite_count': 0,\n",
       "  'user.screen_name': 'loafnrn',\n",
       "  'entities.hashtags[i].text': []}]"
      ]
     },
     "execution_count": 15,
     "metadata": {},
     "output_type": "execute_result"
    }
   ],
   "source": [
    "# use \"breakfast\" topic tweets file as an example\n",
    "load_tweets(twitter_stream_breakfast_file)"
   ]
  },
  {
   "cell_type": "markdown",
   "id": "52f489a3",
   "metadata": {},
   "source": [
    "## 2B - Calculate Tweet Popularity from the JSON File"
   ]
  },
  {
   "cell_type": "code",
   "execution_count": 16,
   "id": "f5c0dd73",
   "metadata": {},
   "outputs": [],
   "source": [
    "# takes in a file containing tweets \n",
    "# returns a tuple containing the average number of _retweets_ (in the first entry)\n",
    "# and the average number of _favorites_ (in the second entry)\n",
    "def popularity(tweets_file):\n",
    "    filelist = load_tweets(tweets_file)\n",
    "\n",
    "    sumRetweets = 0\n",
    "    countRetweets = 0\n",
    "    sumFavorite = 0\n",
    "    countFavorite = 0\n",
    "\n",
    "    for tweetdict in filelist:\n",
    "        # find retweets number\n",
    "        # add it into sum\n",
    "        sumRetweets = sumRetweets + tweetdict.get('retweet_count')\n",
    "        countRetweets = countRetweets + 1\n",
    "        # find favorites number\n",
    "        # add it into its sum\n",
    "        sumFavorite = sumFavorite + tweetdict.get('favorite_count')\n",
    "        countFavorite = countFavorite + 1\n",
    "\n",
    "    # calculate the average of retweets and fav, add them into tuple\n",
    "    aveRetweets = float(sumRetweets / countRetweets)\n",
    "    aveFavorite = float(sumFavorite / countFavorite)\n",
    "    return tuple((aveRetweets, aveFavorite))    "
   ]
  },
  {
   "cell_type": "markdown",
   "id": "e9269b41",
   "metadata": {},
   "source": [
    "#### It looks like \"lunch\" is the most popular topic today, because its average retweets times is much higher than other two.   But \"breakfast\" got highest average number of favorites..."
   ]
  },
  {
   "cell_type": "code",
   "execution_count": 17,
   "id": "a7b65eb9",
   "metadata": {},
   "outputs": [
    {
     "name": "stdout",
     "output_type": "stream",
     "text": [
      "(1201.32, 0.09)\n"
     ]
    }
   ],
   "source": [
    "breakfast_pop = popularity(twitter_stream_breakfast_file)\n",
    "print(breakfast_pop)"
   ]
  },
  {
   "cell_type": "code",
   "execution_count": 18,
   "id": "e9c151e4",
   "metadata": {
    "scrolled": true
   },
   "outputs": [
    {
     "name": "stdout",
     "output_type": "stream",
     "text": [
      "(4097.12, 0.02)\n"
     ]
    }
   ],
   "source": [
    "lunch_pop = popularity(twitter_stream_lunch_file)\n",
    "print(lunch_pop)"
   ]
  },
  {
   "cell_type": "code",
   "execution_count": 19,
   "id": "66a3eba6",
   "metadata": {},
   "outputs": [
    {
     "name": "stdout",
     "output_type": "stream",
     "text": [
      "(526.82, 0.05)\n"
     ]
    }
   ],
   "source": [
    "dinner_pop = popularity(twitter_stream_dinner_file)\n",
    "print(dinner_pop)"
   ]
  },
  {
   "cell_type": "markdown",
   "id": "9fbd9a3a",
   "metadata": {},
   "source": [
    "## What are the Trending Hashtags related to these topics?"
   ]
  },
  {
   "cell_type": "markdown",
   "id": "9fc3870c",
   "metadata": {},
   "source": [
    "## 2C - Trending Hashtags"
   ]
  },
  {
   "cell_type": "code",
   "execution_count": 20,
   "id": "dda35e8f",
   "metadata": {},
   "outputs": [],
   "source": [
    "# takes in a file containing tweets \n",
    "# returns a list of tuples, where each tuple contains a hashtag in the data set \n",
    "# and the number of times that hashtag was used. \n",
    "\n",
    "# This list will be ordered by the frequency, so that most popular hashtags are at the top.\n",
    "def hashtag_counts(tweets_file):\n",
    "    fileList = load_tweets(tweets_file)\n",
    "    resDict = {}\n",
    "\n",
    "    # find hashtag as key, count times as value, sort by value\n",
    "    for tweetDict in fileList:\n",
    "        hashtagsList = tweetDict.get('entities.hashtags[i].text')\n",
    "        hashtagsSet = set(hashtagsList)\n",
    "\n",
    "        for hashtag in hashtagsSet:\n",
    "            hashtag = '#' + hashtag\n",
    "\n",
    "            if hashtag in resDict:\n",
    "                resDict[hashtag] = resDict[hashtag] + 1\n",
    "            else:\n",
    "                resDict[hashtag] = 1\n",
    "\n",
    "    # transfer dict into tuple\n",
    "    resTupleList = sorted(resDict.items(), key = lambda x : x[1], reverse = True)\n",
    "\n",
    "    return resTupleList"
   ]
  },
  {
   "cell_type": "code",
   "execution_count": 21,
   "id": "bbd78720",
   "metadata": {},
   "outputs": [
    {
     "data": {
      "text/plain": [
       "[('#TravisJapan', 5),\n",
       " ('#SnowMan', 5),\n",
       " ('#SixTONES', 5),\n",
       " ('#ザ少年倶楽部', 3),\n",
       " ('#美少年', 2),\n",
       " ('#少クラ', 2),\n",
       " ('#HiHiJets', 2),\n",
       " ('#lunch', 1),\n",
       " ('#food', 1),\n",
       " ('#Calabasasfood', 1),\n",
       " ('#Calabasas', 1),\n",
       " ('#foodie', 1),\n",
       " ('#foodlover', 1),\n",
       " ('#dinner', 1),\n",
       " ('#Calabasasfoodie', 1),\n",
       " ('#JumatBerkah', 1),\n",
       " ('#bakingbacon', 1),\n",
       " ('#GetNoticed', 1),\n",
       " ('#ZouainEntertainment', 1),\n",
       " ('#ZouainManor', 1),\n",
       " ('#PlaceWar', 1),\n",
       " ('#Metaverse', 1),\n",
       " ('#NFTGame', 1)]"
      ]
     },
     "execution_count": 21,
     "metadata": {},
     "output_type": "execute_result"
    }
   ],
   "source": [
    "# use \"breakfast\" topic tweets file as an example\n",
    "hashtag_counts(twitter_stream_breakfast_file)"
   ]
  },
  {
   "cell_type": "markdown",
   "id": "baffb586",
   "metadata": {},
   "source": [
    "# PART 3 - Working with Both Tweets and Sentiments"
   ]
  },
  {
   "cell_type": "markdown",
   "id": "202b01b3",
   "metadata": {},
   "source": [
    "## 3A - What is the sentiment score for each tweet?"
   ]
  },
  {
   "cell_type": "code",
   "execution_count": 22,
   "id": "1b06ac88",
   "metadata": {},
   "outputs": [],
   "source": [
    "# takes in two parameters: the tweet data file and a sentiment data file \n",
    "# return a list of tweet objects:\n",
    "# 1.similar to load_tweets() method\n",
    "# 2.but each tweet object has an additional field - sentiment - holds the sentiment of the tweet's text. \n",
    "\n",
    "def tweet_sentiments(tweets_file, senti_file):\n",
    "    # use 2A load_tweets() produce a list of dicts\n",
    "    # every dicts in this list should add one key: 'sentiment'\n",
    "    # calculate the value of 'sentiment' by 1C text_sentiment()\n",
    "    tweetsList = load_tweets(tweets_file)\n",
    "    sentimentDict = load_sentiments(senti_file)\n",
    "\n",
    "    for tweetDict in tweetsList:\n",
    "        tweetDict['sentiment'] = text_sentiment(tweetDict['text'], sentimentDict)\n",
    "\n",
    "    return tweetsList  "
   ]
  },
  {
   "cell_type": "code",
   "execution_count": 23,
   "id": "2c7a5f22",
   "metadata": {},
   "outputs": [
    {
     "name": "stdout",
     "output_type": "stream",
     "text": [
      "[{'created_at': 'Thu Dec 09 23:26:38 +0000 2021', 'text': 'rt @himacomfort: look at the way this cutie sunflower ate her breakfast 💕 https://t.co/y0ojklad7l', 'retweet_count': 67, 'favorite_count': 0, 'user.screen_name': 'NaruHinaHeart', 'entities.hashtags[i].text': [], 'sentiment': 0}, {'created_at': 'Thu Dec 09 23:44:42 +0000 2021', 'text': '@supreeeme that’s what i’m having for dinner! i didn’t have a taste for anything but needed something on my stomach… https://t.co/ldzgki7cem', 'retweet_count': 0, 'favorite_count': 0, 'user.screen_name': 'LOVESHANNIE87', 'entities.hashtags[i].text': [], 'sentiment': 0}, {'created_at': 'Thu Dec 09 23:44:42 +0000 2021', 'text': \"@apeach_here don't skip your breakfast, be happy and have a nice day\", 'retweet_count': 0, 'favorite_count': 0, 'user.screen_name': 'onyourwntr', 'entities.hashtags[i].text': [], 'sentiment': 6.0}, {'created_at': 'Thu Dec 09 23:44:39 +0000 2021', 'text': \"@nauudoyiee don't skip your breakfast and have a nice day!!\", 'retweet_count': 0, 'favorite_count': 0, 'user.screen_name': 'Naaajefff', 'entities.hashtags[i].text': [], 'sentiment': 3.0}, {'created_at': 'Thu Dec 09 23:44:39 +0000 2021', 'text': 'rt @lovisdeli: crepes for brunch, yes, please!!\\n\\n#food #foodie #foodlover #lunch #dinner #calabasas #calabasasfoodie #calabasasfood #calaba…', 'retweet_count': 1, 'favorite_count': 0, 'user.screen_name': 'CalabasasAlive', 'entities.hashtags[i].text': ['food', 'foodie', 'foodlover', 'lunch', 'dinner', 'Calabasas', 'Calabasasfoodie', 'Calabasasfood'], 'sentiment': 2.0}, {'created_at': 'Thu Dec 09 23:44:33 +0000 2021', 'text': 'rt @agnicynjnie: @foxyiewz have a nice day, dont skip ur breakfast ok?!', 'retweet_count': 1, 'favorite_count': 0, 'user.screen_name': 'foxyiewz', 'entities.hashtags[i].text': [], 'sentiment': 3.0}, {'created_at': 'Thu Dec 09 23:44:33 +0000 2021', 'text': \"@puduuuuuuuuu don't skip ur breakfast yaww!! hv a great day bestiee🐰💗\", 'retweet_count': 0, 'favorite_count': 0, 'user.screen_name': 'kllaliaaa', 'entities.hashtags[i].text': [], 'sentiment': 3.0}, {'created_at': 'Thu Dec 09 23:44:31 +0000 2021', 'text': 'rt @themobilegolfer: memorable day at @pueblobonito …so packed i was out shooting at 6am and didn’t get back to my room until 11:30pm\\n\\nbrea…', 'retweet_count': 3, 'favorite_count': 0, 'user.screen_name': 'QuiviraCabos', 'entities.hashtags[i].text': [], 'sentiment': 0}, {'created_at': 'Thu Dec 09 23:44:31 +0000 2021', 'text': \"@ctrlsweetylee have a great day! don't skip ur breakfast &amp; take a bath. don't forget be grateful &amp; be happy, semangat untuk hari ini!\", 'retweet_count': 0, 'favorite_count': 0, 'user.screen_name': 'haechnjun', 'entities.hashtags[i].text': [], 'sentiment': 8.0}, {'created_at': 'Thu Dec 09 23:44:30 +0000 2021', 'text': '@ambber_ goodmorning luv !! eat ur breakfast and dont skip meals !! dont overwork urself and enjoy ur day ^-^  reme… https://t.co/nbywwrpnqz', 'retweet_count': 0, 'favorite_count': 0, 'user.screen_name': 'lvrdnf', 'entities.hashtags[i].text': [], 'sentiment': 2.0}, {'created_at': 'Thu Dec 09 23:44:29 +0000 2021', 'text': 'i’ll eat breakfast food alll day. wtf🥴', 'retweet_count': 0, 'favorite_count': 0, 'user.screen_name': 'prettyloaded_', 'entities.hashtags[i].text': [], 'sentiment': -4.0}, {'created_at': 'Thu Dec 09 23:44:26 +0000 2021', 'text': 'good morning, ive been happier these days. wear something warm please so that you dont get cold, and eat breakfast lovies!', 'retweet_count': 0, 'favorite_count': 0, 'user.screen_name': 'yjwmailvs', 'entities.hashtags[i].text': [], 'sentiment': 5.0}, {'created_at': 'Thu Dec 09 23:44:26 +0000 2021', 'text': '@120yearz @killpop4ever why???? i have a mandatory routine to cum every morning after ,and or during my 1st. cup of… https://t.co/kvaxnqbc7y', 'retweet_count': 0, 'favorite_count': 0, 'user.screen_name': 'Zoeller911', 'entities.hashtags[i].text': [], 'sentiment': -1.0}, {'created_at': 'Thu Dec 09 23:44:26 +0000 2021', 'text': '@nparkerrr_ @oldrowaggies breakfast burger every time', 'retweet_count': 0, 'favorite_count': 0, 'user.screen_name': 'austin_lee9', 'entities.hashtags[i].text': [], 'sentiment': 0}, {'created_at': 'Thu Dec 09 23:44:25 +0000 2021', 'text': 'rt @dreamjeons: he climbed up a mountain to get a chunk of snow for jimin because he likes it, covered a song at 4am after namjoon asked hi…', 'retweet_count': 61, 'favorite_count': 0, 'user.screen_name': 'Vantaeta3', 'entities.hashtags[i].text': [], 'sentiment': 2.0}, {'created_at': 'Thu Dec 09 23:44:25 +0000 2021', 'text': \"@pudurichan don't skip your breakfast and have a nice day!!\", 'retweet_count': 0, 'favorite_count': 0, 'user.screen_name': 'Naaajefff', 'entities.hashtags[i].text': [], 'sentiment': 3.0}, {'created_at': 'Thu Dec 09 23:44:23 +0000 2021', 'text': 'rt @nhk_musicjp: ／\\n💎#ザ少年倶楽部💎\\nテーマは2021🔥\\n＼\\n\\n🎵infighter / #snowman\\n🎵strawberry breakfast / #sixtones\\n🎵together now / #travisjapan\\n🎵attack it!…', 'retweet_count': 850, 'favorite_count': 0, 'user.screen_name': 'ooooosakana', 'entities.hashtags[i].text': ['ザ少年倶楽部', 'SnowMan', 'SixTONES', 'TravisJapan'], 'sentiment': -1.0}, {'created_at': 'Thu Dec 09 23:44:22 +0000 2021', 'text': '@boxingfanfed fuck outta here, ain’t no breakfast like some mexican food!', 'retweet_count': 0, 'favorite_count': 0, 'user.screen_name': 'Abnasty210', 'entities.hashtags[i].text': [], 'sentiment': -3.0}, {'created_at': 'Thu Dec 09 23:44:22 +0000 2021', 'text': \"rt @pumpknpatchsoap: from rainbows to breakfast to crystals to horror and everything in between. there's a soap for every style and all mad…\", 'retweet_count': 24, 'favorite_count': 0, 'user.screen_name': 'MugsofFunGifts', 'entities.hashtags[i].text': [], 'sentiment': -3.0}, {'created_at': 'Thu Dec 09 23:44:20 +0000 2021', 'text': 'champorado, pansit canton and lumpiang togue for breakfast ❤️👅', 'retweet_count': 0, 'favorite_count': 0, 'user.screen_name': 'JinPampanga', 'entities.hashtags[i].text': [], 'sentiment': 0}, {'created_at': 'Thu Dec 09 23:44:19 +0000 2021', 'text': \"@yeribandungg don't forget to have breakfast&lt;3\", 'retweet_count': 0, 'favorite_count': 0, 'user.screen_name': '4yonGf', 'entities.hashtags[i].text': [], 'sentiment': -1.0}, {'created_at': 'Thu Dec 09 23:44:18 +0000 2021', 'text': 'siapa kat jb? breakfast jom!', 'retweet_count': 0, 'favorite_count': 0, 'user.screen_name': 'faeq_aizat', 'entities.hashtags[i].text': [], 'sentiment': 0}, {'created_at': 'Thu Dec 09 23:44:16 +0000 2021', 'text': '@demonightt have a nice day, don’t skip ur breakfast be happy ryan&lt;33', 'retweet_count': 0, 'favorite_count': 0, 'user.screen_name': 'arlethaalee', 'entities.hashtags[i].text': [], 'sentiment': 6.0}, {'created_at': 'Thu Dec 09 23:44:16 +0000 2021', 'text': '@kalixtarr goodmorning bff !! eat ur breakfast and dont skip meals !! dont overwork urself and enjoy ur day ^-^  re… https://t.co/0v9vrcquej', 'retweet_count': 0, 'favorite_count': 0, 'user.screen_name': 'lvrdnf', 'entities.hashtags[i].text': [], 'sentiment': 2.0}, {'created_at': 'Thu Dec 09 23:44:15 +0000 2021', 'text': 'it\\'s the holiday season!\\n\\nto get into the holiday cheer, we were so excited to serve breakfast at today\\'s \"shop wit… https://t.co/fdexktq0n7', 'retweet_count': 0, 'favorite_count': 0, 'user.screen_name': 'amicicatering', 'entities.hashtags[i].text': [], 'sentiment': 5.0}, {'created_at': 'Thu Dec 09 23:44:14 +0000 2021', 'text': 'rt @nhk_hensei: ✨#少クラ✨\\n\\n#snowman ♪infighter\\n#sixtones ♪strawberry breakfast\\n#travisjapan ♪together now\\n#hihijets ♪attack it!\\n#美少年 ♪虹の中で\\n\\nお悩…', 'retweet_count': 2388, 'favorite_count': 0, 'user.screen_name': 'pinkx625x', 'entities.hashtags[i].text': ['少クラ', 'SnowMan', 'SixTONES', 'TravisJapan', 'HiHiJets', '美少年'], 'sentiment': -1.0}, {'created_at': 'Thu Dec 09 23:44:14 +0000 2021', 'text': \"rt @cat_cosplay: just informed them there won't be a second breakfast... nor an elevenses. https://t.co/agyojrvhxl\", 'retweet_count': 18431, 'favorite_count': 0, 'user.screen_name': 'inloveinwonder', 'entities.hashtags[i].text': [], 'sentiment': 3.0}, {'created_at': 'Thu Dec 09 23:44:13 +0000 2021', 'text': \"@chaanotcaa don't skip ur breakfast and happy a nice day ! &lt;33\", 'retweet_count': 0, 'favorite_count': 0, 'user.screen_name': 'fluffyberrycgfs', 'entities.hashtags[i].text': [], 'sentiment': 6.0}, {'created_at': 'Thu Dec 09 23:44:13 +0000 2021', 'text': 'doing breakfast omad tmrrrr so i can fast until i go to look at xmas lights on saturday.. only doing that so i can… https://t.co/hdj9uev8nd', 'retweet_count': 0, 'favorite_count': 0, 'user.screen_name': 's4tansp0', 'entities.hashtags[i].text': [], 'sentiment': 0}, {'created_at': 'Thu Dec 09 23:44:12 +0000 2021', 'text': '@pbrghart type in everything for me while i eat breakfast', 'retweet_count': 0, 'favorite_count': 1, 'user.screen_name': 'kou_DP', 'entities.hashtags[i].text': [], 'sentiment': 0}, {'created_at': 'Thu Dec 09 23:44:11 +0000 2021', 'text': 'i’m so hungry all i’ve had to eat today was like. 5 shitty chicken nuggets bc i forgot to eat breakfast i’m really losing here', 'retweet_count': 0, 'favorite_count': 1, 'user.screen_name': 'gordnstanheight', 'entities.hashtags[i].text': [], 'sentiment': -4.0}, {'created_at': 'Thu Dec 09 23:44:06 +0000 2021', 'text': \"@scoupshugz_ don't skip ur breakfast and happy a nice day ! &lt;33\", 'retweet_count': 0, 'favorite_count': 0, 'user.screen_name': 'fluffyberrycgfs', 'entities.hashtags[i].text': [], 'sentiment': 6.0}, {'created_at': 'Thu Dec 09 23:44:04 +0000 2021', 'text': '@bonngbudi pagi uncle, dont skip your breakfast and have a nice day✨ #jumatberkah', 'retweet_count': 0, 'favorite_count': 0, 'user.screen_name': 'shotcityx', 'entities.hashtags[i].text': ['JumatBerkah'], 'sentiment': 3.0}, {'created_at': 'Thu Dec 09 23:44:04 +0000 2021', 'text': 'rt @nhk_musicjp: ／\\n💎#ザ少年倶楽部💎\\nテーマは2021🔥\\n＼\\n\\n🎵infighter / #snowman\\n🎵strawberry breakfast / #sixtones\\n🎵together now / #travisjapan\\n🎵attack it!…', 'retweet_count': 850, 'favorite_count': 0, 'user.screen_name': 'nashi19523990', 'entities.hashtags[i].text': ['ザ少年倶楽部', 'SnowMan', 'SixTONES', 'TravisJapan'], 'sentiment': -1.0}, {'created_at': 'Thu Dec 09 23:44:03 +0000 2021', 'text': \"rt @cat_cosplay: just informed them there won't be a second breakfast... nor an elevenses. https://t.co/agyojrvhxl\", 'retweet_count': 18431, 'favorite_count': 0, 'user.screen_name': 'MissVeeBlack', 'entities.hashtags[i].text': [], 'sentiment': 3.0}, {'created_at': 'Thu Dec 09 23:44:03 +0000 2021', 'text': 'rt @mrhenry404: what about second breakfast? https://t.co/5ejhu5p0li', 'retweet_count': 89, 'favorite_count': 0, 'user.screen_name': 'bmenezes', 'entities.hashtags[i].text': [], 'sentiment': 0}, {'created_at': 'Thu Dec 09 23:44:00 +0000 2021', 'text': 'breakfast in bed shuta hahaha', 'retweet_count': 0, 'favorite_count': 0, 'user.screen_name': 'Achuchu14404311', 'entities.hashtags[i].text': [], 'sentiment': 3.0}, {'created_at': 'Thu Dec 09 23:43:59 +0000 2021', 'text': 'rt @rossandrussel: and the favourite salutes!\\n\\ngreat work, damo 🤣\\nhttps://t.co/ce768kkbwg', 'retweet_count': 1, 'favorite_count': 0, 'user.screen_name': '3AW693', 'entities.hashtags[i].text': [], 'sentiment': 3.0}, {'created_at': 'Thu Dec 09 23:43:58 +0000 2021', 'text': 'rt @hazardouswalnut: a plate of english breakfast for you❤❤❤ https://t.co/c657fw6esa', 'retweet_count': 51, 'favorite_count': 0, 'user.screen_name': 'mymeina', 'entities.hashtags[i].text': [], 'sentiment': 0}, {'created_at': 'Thu Dec 09 23:43:57 +0000 2021', 'text': 'breakfast for dinner with a red beer 🙌🏼', 'retweet_count': 0, 'favorite_count': 0, 'user.screen_name': 'dhobson10', 'entities.hashtags[i].text': [], 'sentiment': 0}, {'created_at': 'Thu Dec 09 23:43:57 +0000 2021', 'text': 'rt @nhk_hensei: ✨#少クラ✨\\n\\n#snowman ♪infighter\\n#sixtones ♪strawberry breakfast\\n#travisjapan ♪together now\\n#hihijets ♪attack it!\\n#美少年 ♪虹の中で\\n\\nお悩…', 'retweet_count': 2388, 'favorite_count': 0, 'user.screen_name': 'genta_419_tj', 'entities.hashtags[i].text': ['少クラ', 'SnowMan', 'SixTONES', 'TravisJapan', 'HiHiJets', '美少年'], 'sentiment': -1.0}, {'created_at': 'Thu Dec 09 23:43:56 +0000 2021', 'text': \"rt @cat_cosplay: just informed them there won't be a second breakfast... nor an elevenses. https://t.co/agyojrvhxl\", 'retweet_count': 18431, 'favorite_count': 0, 'user.screen_name': 'uzumakilovebot', 'entities.hashtags[i].text': [], 'sentiment': 3.0}, {'created_at': 'Thu Dec 09 23:43:56 +0000 2021', 'text': \"@skukzzybae rise and shine unnie ☀. rajin banget ya pagi-pagi udah on aja hehe\\ndon't forget to eat you breakfast, b… https://t.co/dyotbsjopc\", 'retweet_count': 0, 'favorite_count': 0, 'user.screen_name': 'cancvas', 'entities.hashtags[i].text': [], 'sentiment': -1.0}, {'created_at': 'Thu Dec 09 23:43:55 +0000 2021', 'text': '@sksgab kain breakfast then you sleep again, wokie? &gt;:(', 'retweet_count': 0, 'favorite_count': 0, 'user.screen_name': 'plantitoz', 'entities.hashtags[i].text': [], 'sentiment': 0}, {'created_at': 'Thu Dec 09 23:43:55 +0000 2021', 'text': \"@chanhoneys don't skip ur breakfast and happy a nice day ! &lt;33\", 'retweet_count': 0, 'favorite_count': 0, 'user.screen_name': 'fluffyberrycgfs', 'entities.hashtags[i].text': [], 'sentiment': 6.0}, {'created_at': 'Thu Dec 09 23:43:53 +0000 2021', 'text': '@txtily304 have a nice day, dont skip ur breakfast ok?!', 'retweet_count': 0, 'favorite_count': 0, 'user.screen_name': 'agnicynjnie', 'entities.hashtags[i].text': [], 'sentiment': 3.0}, {'created_at': 'Thu Dec 09 23:43:49 +0000 2021', 'text': 'today’s hectic day ends with #bakingbacon breakfast for dinner at #zouainmanor . #zouainentertainment #getnoticed… https://t.co/kcinnfo6s0', 'retweet_count': 0, 'favorite_count': 0, 'user.screen_name': 'DJZouain', 'entities.hashtags[i].text': ['bakingbacon', 'ZouainManor', 'ZouainEntertainment', 'GetNoticed'], 'sentiment': 0}, {'created_at': 'Thu Dec 09 23:43:48 +0000 2021', 'text': \"@ksunoonly have a great day, don't forget to your breakfast, n stay healthy n take care💗 be happy always keep smile every day love u❤️\", 'retweet_count': 0, 'favorite_count': 0, 'user.screen_name': 'masdepkiim', 'entities.hashtags[i].text': [], 'sentiment': 14.0}, {'created_at': 'Thu Dec 09 23:43:47 +0000 2021', 'text': '@foxyiewz have a nice day, dont skip ur breakfast ok?!', 'retweet_count': 1, 'favorite_count': 1, 'user.screen_name': 'agnicynjnie', 'entities.hashtags[i].text': [], 'sentiment': 3.0}, {'created_at': 'Thu Dec 09 23:43:46 +0000 2021', 'text': 'popcorn 200\\nviscount 75\\nberries 55\\nchew 200\\nbirthday 400  \\nbreakfast 50\\noat milk 50 \\n\\nprobably overestimating a lit… https://t.co/nmodwb0tsa', 'retweet_count': 0, 'favorite_count': 0, 'user.screen_name': 'smallplease_', 'entities.hashtags[i].text': [], 'sentiment': 0}, {'created_at': 'Thu Dec 09 23:43:45 +0000 2021', 'text': \"@doosicheng have a great day! don't skip ur breakfast &amp; take a bath. don't forget be grateful &amp; be happy, semangat untuk hari ini!\", 'retweet_count': 0, 'favorite_count': 0, 'user.screen_name': 'haechnjun', 'entities.hashtags[i].text': [], 'sentiment': 8.0}, {'created_at': 'Thu Dec 09 23:43:45 +0000 2021', 'text': \"rt @cat_cosplay: just informed them there won't be a second breakfast... nor an elevenses. https://t.co/agyojrvhxl\", 'retweet_count': 18431, 'favorite_count': 0, 'user.screen_name': 'tealcityx', 'entities.hashtags[i].text': [], 'sentiment': 3.0}, {'created_at': 'Thu Dec 09 23:43:45 +0000 2021', 'text': '@dheyeol aloo ka deyyy,,, udh breakfast blomm niee??', 'retweet_count': 0, 'favorite_count': 0, 'user.screen_name': 'dohyonncityxz', 'entities.hashtags[i].text': [], 'sentiment': 0}, {'created_at': 'Thu Dec 09 23:43:45 +0000 2021', 'text': '@sk8ivr good morning^^ kain ka na ng breakfast', 'retweet_count': 0, 'favorite_count': 1, 'user.screen_name': 'nadapasayu', 'entities.hashtags[i].text': [], 'sentiment': 3.0}, {'created_at': 'Thu Dec 09 23:43:42 +0000 2021', 'text': \"@cpykhj don't skip ur breakfast and happy a nice day ! &lt;33\", 'retweet_count': 0, 'favorite_count': 0, 'user.screen_name': 'fluffyberrycgfs', 'entities.hashtags[i].text': [], 'sentiment': 6.0}, {'created_at': 'Thu Dec 09 23:43:42 +0000 2021', 'text': '@rrevlxy have a nice day, dont skip ur breakfast ok?!', 'retweet_count': 0, 'favorite_count': 0, 'user.screen_name': 'agnicynjnie', 'entities.hashtags[i].text': [], 'sentiment': 3.0}, {'created_at': 'Thu Dec 09 23:43:40 +0000 2021', 'text': \"@haikalcc have a great day! don't skip ur breakfast &amp; take a bath. don't forget be grateful &amp; be happy, semangat untuk hari ini!\", 'retweet_count': 0, 'favorite_count': 0, 'user.screen_name': 'haechnjun', 'entities.hashtags[i].text': [], 'sentiment': 8.0}, {'created_at': 'Thu Dec 09 23:43:40 +0000 2021', 'text': \"@wulanieepeach__ have a great day, don't forget to your breakfast, n stay healthy n take care💗 be happy always keep smile every day love u❤️\", 'retweet_count': 0, 'favorite_count': 0, 'user.screen_name': 'masdepkiim', 'entities.hashtags[i].text': [], 'sentiment': 14.0}, {'created_at': 'Thu Dec 09 23:43:37 +0000 2021', 'text': \"@tuanmudajaemin have a great day! don't skip ur breakfast &amp; take a bath. don't forget be grateful &amp; be happy, semangat untuk hari ini!\", 'retweet_count': 0, 'favorite_count': 0, 'user.screen_name': 'haechnjun', 'entities.hashtags[i].text': [], 'sentiment': 8.0}, {'created_at': 'Thu Dec 09 23:43:36 +0000 2021', 'text': '@xxyeonnie have a nice day, dont skip ur breakfast ok?!', 'retweet_count': 0, 'favorite_count': 0, 'user.screen_name': 'agnicynjnie', 'entities.hashtags[i].text': [], 'sentiment': 3.0}, {'created_at': 'Thu Dec 09 23:43:35 +0000 2021', 'text': \"@fushikley halo juga cantik, have a nice day too! don't skip your breakfast ya shaka.\", 'retweet_count': 0, 'favorite_count': 0, 'user.screen_name': 'ayybiches', 'entities.hashtags[i].text': [], 'sentiment': 3.0}, {'created_at': 'Thu Dec 09 23:43:32 +0000 2021', 'text': 'rt @mrhenry404: what about second breakfast? https://t.co/5ejhu5p0li', 'retweet_count': 89, 'favorite_count': 0, 'user.screen_name': 'ryantattershall', 'entities.hashtags[i].text': [], 'sentiment': 0}, {'created_at': 'Thu Dec 09 23:43:31 +0000 2021', 'text': '#10 japanese breakfast - be sweet \\nhttps://t.co/qb9vmgqwz0', 'retweet_count': 0, 'favorite_count': 2, 'user.screen_name': 'cautiwm', 'entities.hashtags[i].text': [], 'sentiment': 2.0}, {'created_at': 'Thu Dec 09 23:43:30 +0000 2021', 'text': '@seoviors good morning isa!! sana nag breakfast kana!', 'retweet_count': 0, 'favorite_count': 0, 'user.screen_name': 'soloistgaeul', 'entities.hashtags[i].text': [], 'sentiment': 3.0}, {'created_at': 'Thu Dec 09 23:43:30 +0000 2021', 'text': 'rt @atetasha24: morning! rise&amp;grind! got to end the week strong. you can do it!\\n\\nstarting your day with amo’s daily updates from palawan. a…', 'retweet_count': 22, 'favorite_count': 0, 'user.screen_name': 'fangirlmoako', 'entities.hashtags[i].text': [], 'sentiment': 2.0}, {'created_at': 'Thu Dec 09 23:43:29 +0000 2021', 'text': \"rt @cat_cosplay: just informed them there won't be a second breakfast... nor an elevenses. https://t.co/agyojrvhxl\", 'retweet_count': 18431, 'favorite_count': 0, 'user.screen_name': 'randomlego87', 'entities.hashtags[i].text': [], 'sentiment': 3.0}, {'created_at': 'Thu Dec 09 23:43:27 +0000 2021', 'text': 'rt @suiyyiuris: when you go to tue breakfast @placewar_game     @carlotzane @luffarelli #placewar, #nftgame e #metaverse https://t.co/yizyu…', 'retweet_count': 6, 'favorite_count': 0, 'user.screen_name': 'GigNft', 'entities.hashtags[i].text': ['PlaceWar', 'NFTGame', 'Metaverse'], 'sentiment': 0}, {'created_at': 'Thu Dec 09 23:43:24 +0000 2021', 'text': 'rt @americanatheist: breaking: senator tim kaine is dropping the national prayer breakfast, reports @jtlarsen. this is big news because kai…', 'retweet_count': 54, 'favorite_count': 0, 'user.screen_name': 'AndreWillingha2', 'entities.hashtags[i].text': [], 'sentiment': 1.0}, {'created_at': 'Thu Dec 09 23:43:21 +0000 2021', 'text': \"good morning everyone don't forget to eat breakfast\", 'retweet_count': 0, 'favorite_count': 0, 'user.screen_name': 'thinkinghannie', 'entities.hashtags[i].text': [], 'sentiment': 2.0}, {'created_at': 'Thu Dec 09 23:43:21 +0000 2021', 'text': \"@loaviechan sipp, good morning!! 🌷\\ndon't forget to breakfast 🍳 and take a bath bestiee-!!🚿\\nhave a good dayy🤩, don't forget to smile too😃\", 'retweet_count': 0, 'favorite_count': 0, 'user.screen_name': 'laaxuxi', 'entities.hashtags[i].text': [], 'sentiment': 6.0}, {'created_at': 'Thu Dec 09 23:43:18 +0000 2021', 'text': \"@jmrtrssunbear have a great day! don't skip ur breakfast &amp; take a bath. don't forget be grateful &amp; be happy, semangat untuk hari ini!\", 'retweet_count': 0, 'favorite_count': 1, 'user.screen_name': 'haechnjun', 'entities.hashtags[i].text': [], 'sentiment': 8.0}, {'created_at': 'Thu Dec 09 23:43:18 +0000 2021', 'text': 'nak pergi breakfast kat pakli kopitiam ah. dah lama tak makan sorang2 dah lama tak me time tiber😂', 'retweet_count': 0, 'favorite_count': 0, 'user.screen_name': 'sakinahtarmizi', 'entities.hashtags[i].text': [], 'sentiment': 0}, {'created_at': 'Thu Dec 09 23:43:17 +0000 2021', 'text': 'rt @sugaarrbaby: i know we laugh it off here and call it being served “breakfast” but it’s cruel stringing people along. be in a relationsh…', 'retweet_count': 1107, 'favorite_count': 0, 'user.screen_name': 'TheGbemms', 'entities.hashtags[i].text': [], 'sentiment': -2.0}, {'created_at': 'Thu Dec 09 23:43:17 +0000 2021', 'text': 'rt @fikz_the_cook: prettiest breakfast i have done this year🥰🥰 https://t.co/pp6gtysbyl', 'retweet_count': 338, 'favorite_count': 0, 'user.screen_name': 'anichols_17', 'entities.hashtags[i].text': [], 'sentiment': 0}, {'created_at': 'Thu Dec 09 23:43:17 +0000 2021', 'text': '@rubiesrid good morning!! eat breakfast and have a great day!!!', 'retweet_count': 0, 'favorite_count': 0, 'user.screen_name': 'rnnique', 'entities.hashtags[i].text': [], 'sentiment': 6.0}, {'created_at': 'Thu Dec 09 23:43:17 +0000 2021', 'text': 'breakfast for supper always hits', 'retweet_count': 0, 'favorite_count': 0, 'user.screen_name': 'ChadYarbrough1', 'entities.hashtags[i].text': [], 'sentiment': 0}, {'created_at': 'Thu Dec 09 23:43:17 +0000 2021', 'text': 'rt @zuzuri: liver and banana is a top tier breakfast', 'retweet_count': 30, 'favorite_count': 0, 'user.screen_name': 'ZexiAllyy', 'entities.hashtags[i].text': [], 'sentiment': 2.0}, {'created_at': 'Thu Dec 09 23:43:16 +0000 2021', 'text': '@rydpta have a nice day, don’t skip ur breakfast be happy dipta&lt;33', 'retweet_count': 0, 'favorite_count': 0, 'user.screen_name': 'arlethaalee', 'entities.hashtags[i].text': [], 'sentiment': 6.0}, {'created_at': 'Thu Dec 09 23:43:16 +0000 2021', 'text': '@aquarius_7o yo i really love cold pizza for breakfast haha', 'retweet_count': 0, 'favorite_count': 0, 'user.screen_name': 'markee2504', 'entities.hashtags[i].text': [], 'sentiment': 6.0}, {'created_at': 'Thu Dec 09 23:43:16 +0000 2021', 'text': '@brianbrooksus @johnedeaton1 @ripple that’s how you stay sharp. i guess you eat a heavy breakfast.', 'retweet_count': 0, 'favorite_count': 0, 'user.screen_name': 'SourceD20', 'entities.hashtags[i].text': [], 'sentiment': 0}, {'created_at': 'Thu Dec 09 23:43:14 +0000 2021', 'text': 'and the favourite salutes!\\n\\ngreat work, damo 🤣\\nhttps://t.co/ce768kkbwg', 'retweet_count': 1, 'favorite_count': 2, 'user.screen_name': 'RossAndRussel', 'entities.hashtags[i].text': [], 'sentiment': 3.0}, {'created_at': 'Thu Dec 09 23:43:14 +0000 2021', 'text': \"@ionjwini have a nice day,don't skip your breakfast🙆🏻\\u200d♀️\", 'retweet_count': 0, 'favorite_count': 0, 'user.screen_name': 'jcneivrs', 'entities.hashtags[i].text': [], 'sentiment': 3.0}, {'created_at': 'Thu Dec 09 23:43:14 +0000 2021', 'text': \"haven't started the new dexter yet, does it still have the same intro? always looked like a cracking breakfast. hun… https://t.co/tozflr2j3g\", 'retweet_count': 0, 'favorite_count': 0, 'user.screen_name': 'tommygallacher', 'entities.hashtags[i].text': [], 'sentiment': 2.0}, {'created_at': 'Thu Dec 09 23:43:14 +0000 2021', 'text': \"@zkdlinkaixo have a great day! don't skip ur breakfast &amp; take a bath. don't forget be grateful &amp; be happy, semangat untuk hari ini!\", 'retweet_count': 0, 'favorite_count': 0, 'user.screen_name': 'haechnjun', 'entities.hashtags[i].text': [], 'sentiment': 8.0}, {'created_at': 'Thu Dec 09 23:43:12 +0000 2021', 'text': 'rt @wendy_harmer: ready to take \\u2066@abcsydney\\u2069 breakfast for one last spin around the block 👋 https://t.co/s9vbmv4ag6', 'retweet_count': 88, 'favorite_count': 0, 'user.screen_name': 'JSSciencefocus', 'entities.hashtags[i].text': [], 'sentiment': -1.0}, {'created_at': 'Thu Dec 09 23:43:12 +0000 2021', 'text': 'breakfast - reflection paper', 'retweet_count': 0, 'favorite_count': 0, 'user.screen_name': 'living_moana', 'entities.hashtags[i].text': [], 'sentiment': 0}, {'created_at': 'Thu Dec 09 23:43:10 +0000 2021', 'text': 'some days it’s lunch. some days brunch. some days a snack. others, something to tide you over. maybe even a late br… https://t.co/qamwn7tloe', 'retweet_count': 0, 'favorite_count': 0, 'user.screen_name': 'MasonTV', 'entities.hashtags[i].text': [], 'sentiment': 0}, {'created_at': 'Thu Dec 09 23:43:10 +0000 2021', 'text': \"@djmark___ have a great day! don't skip ur breakfast &amp; take a bath. don't forget be grateful &amp; be happy, semangat untuk hari ini!\", 'retweet_count': 0, 'favorite_count': 0, 'user.screen_name': 'haechnjun', 'entities.hashtags[i].text': [], 'sentiment': 8.0}, {'created_at': 'Thu Dec 09 23:43:10 +0000 2021', 'text': 'rt @mauiposa: shan lopez as a \"friend\" within 4 chapters of oye\\n\\n1. making coffee for you in the morning\\n2. \"after-care\" including breakfas…', 'retweet_count': 186, 'favorite_count': 0, 'user.screen_name': 'zai_la_', 'entities.hashtags[i].text': [], 'sentiment': 2.0}, {'created_at': 'Thu Dec 09 23:43:09 +0000 2021', 'text': '@navyspook77 @ladyjaypersists i got a 100lb puppy you could borrow.  just have her back by breakfast or she gets cr… https://t.co/alkpuhnjaj', 'retweet_count': 0, 'favorite_count': 0, 'user.screen_name': 'SuperSQUID19', 'entities.hashtags[i].text': [], 'sentiment': 0}, {'created_at': 'Thu Dec 09 23:43:09 +0000 2021', 'text': '@klndr00 dont forget ur breakfast kak! and have a nice day too 🙆🏻\\u200d♀️⛅', 'retweet_count': 0, 'favorite_count': 0, 'user.screen_name': 'loafnrn', 'entities.hashtags[i].text': [], 'sentiment': 2.0}, {'created_at': 'Thu Dec 09 23:43:07 +0000 2021', 'text': \"@jmine00 have a nice day,don't skip your breakfast🙆🏻\\u200d♀️\", 'retweet_count': 0, 'favorite_count': 0, 'user.screen_name': 'jcneivrs', 'entities.hashtags[i].text': [], 'sentiment': 3.0}, {'created_at': 'Thu Dec 09 23:43:07 +0000 2021', 'text': \"@fullsnn_00 have a great day! don't skip ur breakfast &amp; take a bath. don't forget be grateful &amp; be happy, semangat untuk hari ini!\", 'retweet_count': 0, 'favorite_count': 0, 'user.screen_name': 'haechnjun', 'entities.hashtags[i].text': [], 'sentiment': 8.0}, {'created_at': 'Thu Dec 09 23:43:07 +0000 2021', 'text': \"@kn1308j don't skip your breakfast, be happy and have a nice day\", 'retweet_count': 0, 'favorite_count': 0, 'user.screen_name': 'onyourwntr', 'entities.hashtags[i].text': [], 'sentiment': 6.0}, {'created_at': 'Thu Dec 09 23:43:06 +0000 2021', 'text': \"@90minse0k hv a great day thea imy ! don't forget to eat ur breakfast !\", 'retweet_count': 0, 'favorite_count': 0, 'user.screen_name': 'ioveschng', 'entities.hashtags[i].text': [], 'sentiment': 2.0}, {'created_at': 'Thu Dec 09 23:43:05 +0000 2021', 'text': 'rt @nhk_musicjp: ／\\n💎#ザ少年倶楽部💎\\nテーマは2021🔥\\n＼\\n\\n🎵infighter / #snowman\\n🎵strawberry breakfast / #sixtones\\n🎵together now / #travisjapan\\n🎵attack it!…', 'retweet_count': 850, 'favorite_count': 0, 'user.screen_name': 'byebye___kiiin', 'entities.hashtags[i].text': ['ザ少年倶楽部', 'SnowMan', 'SixTONES', 'TravisJapan'], 'sentiment': -1.0}, {'created_at': 'Thu Dec 09 23:43:04 +0000 2021', 'text': '@zea_sht hi, eat your breakfast na &amp; have a nice dayyy ♡', 'retweet_count': 0, 'favorite_count': 0, 'user.screen_name': 'theagustbabie', 'entities.hashtags[i].text': [], 'sentiment': 3.0}, {'created_at': 'Thu Dec 09 23:43:03 +0000 2021', 'text': \"rt @cat_cosplay: just informed them there won't be a second breakfast... nor an elevenses. https://t.co/agyojrvhxl\", 'retweet_count': 18431, 'favorite_count': 0, 'user.screen_name': 'KausticKatze', 'entities.hashtags[i].text': [], 'sentiment': 3.0}, {'created_at': 'Thu Dec 09 23:43:03 +0000 2021', 'text': \"@___246smf have a great day! don't skip ur breakfast &amp; take a bath. don't forget be grateful &amp; be happy, semangat untuk hari ini!\", 'retweet_count': 0, 'favorite_count': 0, 'user.screen_name': 'haechnjun', 'entities.hashtags[i].text': [], 'sentiment': 8.0}, {'created_at': 'Thu Dec 09 23:43:02 +0000 2021', 'text': '@ryxilyr dont forget ur breakfast kak! and have a nice day too 🙆🏻\\u200d♀️⛅', 'retweet_count': 0, 'favorite_count': 0, 'user.screen_name': 'loafnrn', 'entities.hashtags[i].text': [], 'sentiment': 2.0}]\n"
     ]
    }
   ],
   "source": [
    "# use \"breakfast\" topic tweets file as an example\n",
    "list_of_breakfast_objects = tweet_sentiments(twitter_stream_breakfast_file, sentiment_file)\n",
    "print(list_of_breakfast_objects)"
   ]
  },
  {
   "cell_type": "code",
   "execution_count": 24,
   "id": "5ee3eb8b",
   "metadata": {},
   "outputs": [],
   "source": [
    "# prepare other two lists for part4 visualation use\n",
    "list_of_lunch_objects = tweet_sentiments(twitter_stream_lunch_file, sentiment_file)\n",
    "list_of_dinner_objects = tweet_sentiments(twitter_stream_dinner_file, sentiment_file)"
   ]
  },
  {
   "cell_type": "markdown",
   "id": "05c2facc",
   "metadata": {},
   "source": [
    "## 3B - What's the average sentiment scores for a specific hashtag in the JSON File?"
   ]
  },
  {
   "cell_type": "code",
   "execution_count": 25,
   "id": "ad156a2a",
   "metadata": {},
   "outputs": [],
   "source": [
    "# takes as parameters a tweet data file, and a sentiment data file\n",
    "# return a list of tuples, where each tuple contains a hashtag in the data set \n",
    "# and the sentiment of that hashtag, defined as: the average sentiment of the tweets that contain that hashtag.\n",
    "\n",
    "# This list will be ordered by the sentiment, so that most positive hashtags are at the top.\n",
    "\n",
    "# optional third parameter: query - representing a \"search term\".\n",
    "# If the function is called with this parameter, then the returned list will only contain hashtags that have the parameter's value _`in`_ them\n",
    "# e.g.: if the query is \"breakfast\" then \"breakfast\" and the hashtag string contains \"breakfast\" would be returned\n",
    "def hashtag_sentiments(tweets_file, senti_file, query=None):\n",
    "    tweetsList = tweet_sentiments(tweets_file, senti_file)\n",
    "    hashtagFrequencyDict = {}\n",
    "    totalSentimentDict = {}\n",
    "    resDict = {}\n",
    "    resQueryDict = {}\n",
    "\n",
    "# find hashtag as key, count times as value, sort by value\n",
    "    for tweetDict in tweetsList:\n",
    "        # get hashtags\n",
    "        hashtagsList = tweetDict.get('entities.hashtags[i].text')\n",
    "        hashtagsSet = set(hashtagsList)\n",
    "\n",
    "        #calculate the hashtag's frequency\n",
    "        for hashtag in hashtagsSet:\n",
    "            hashtag = '#' + hashtag\n",
    "\n",
    "            if hashtag in hashtagFrequencyDict:\n",
    "                hashtagFrequencyDict[hashtag] = hashtagFrequencyDict[hashtag] + 1\n",
    "                totalSentimentDict[hashtag] = totalSentimentDict[hashtag] + tweetDict.get('sentiment')\n",
    "            else:\n",
    "                hashtagFrequencyDict[hashtag] = 1\n",
    "                totalSentimentDict[hashtag] = tweetDict.get('sentiment')\n",
    "\n",
    "    # for third parameter query\n",
    "    for hashtag in totalSentimentDict:\n",
    "#         if re.findall(query, hashtag.lower()):\n",
    "        resDict[hashtag] = totalSentimentDict[hashtag] / hashtagFrequencyDict[hashtag]\n",
    "        \n",
    "    # transfer dict into tuple list\n",
    "    resTupleList = sorted(resDict.items(), key = lambda x : x[1], reverse = True)\n",
    "\n",
    "    return resTupleList  "
   ]
  },
  {
   "cell_type": "code",
   "execution_count": 26,
   "id": "cf32aba3",
   "metadata": {},
   "outputs": [
    {
     "name": "stdout",
     "output_type": "stream",
     "text": [
      "[('#JumatBerkah', 3.0), ('#lunch', 2.0), ('#food', 2.0), ('#Calabasasfood', 2.0), ('#Calabasas', 2.0), ('#foodie', 2.0), ('#foodlover', 2.0), ('#dinner', 2.0), ('#Calabasasfoodie', 2.0), ('#bakingbacon', 0.0), ('#GetNoticed', 0.0), ('#ZouainEntertainment', 0.0), ('#ZouainManor', 0.0), ('#PlaceWar', 0.0), ('#Metaverse', 0.0), ('#NFTGame', 0.0), ('#TravisJapan', -1.0), ('#ザ少年倶楽部', -1.0), ('#SnowMan', -1.0), ('#SixTONES', -1.0), ('#美少年', -1.0), ('#少クラ', -1.0), ('#HiHiJets', -1.0)]\n"
     ]
    }
   ],
   "source": [
    "breakfast_hashtag_lists = hashtag_sentiments(twitter_stream_breakfast_file, sentiment_file)\n",
    "print(breakfast_hashtag_lists)"
   ]
  },
  {
   "cell_type": "code",
   "execution_count": 27,
   "id": "6d2795f1",
   "metadata": {},
   "outputs": [
    {
     "name": "stdout",
     "output_type": "stream",
     "text": [
      "[('#JumatBerkah', 3.0), ('#lunch', 2.0), ('#food', 2.0), ('#Calabasasfood', 2.0), ('#Calabasas', 2.0), ('#foodie', 2.0), ('#foodlover', 2.0), ('#dinner', 2.0), ('#Calabasasfoodie', 2.0), ('#bakingbacon', 0.0), ('#GetNoticed', 0.0), ('#ZouainEntertainment', 0.0), ('#ZouainManor', 0.0), ('#PlaceWar', 0.0), ('#Metaverse', 0.0), ('#NFTGame', 0.0), ('#TravisJapan', -1.0), ('#ザ少年倶楽部', -1.0), ('#SnowMan', -1.0), ('#SixTONES', -1.0), ('#美少年', -1.0), ('#少クラ', -1.0), ('#HiHiJets', -1.0)]\n"
     ]
    }
   ],
   "source": [
    "dinner_hashtag_lists = hashtag_sentiments(twitter_stream_breakfast_file, sentiment_file)\n",
    "print(dinner_hashtag_lists)"
   ]
  },
  {
   "cell_type": "markdown",
   "id": "e0015e14",
   "metadata": {},
   "source": [
    "## 3C - Is it true that positive tweets will get more retweets?\n",
    "### Calculating the [Pearson correlation coefficient](https://en.wikipedia.org/wiki/Pearson_correlation_coefficient)"
   ]
  },
  {
   "cell_type": "code",
   "execution_count": 28,
   "id": "0d435a8b",
   "metadata": {},
   "outputs": [],
   "source": [
    "# takes as parameters a tweet data file, and a sentiment data file\n",
    "# return the correlation between the sentiment of a tweet and the number of times that tweet was retweeted.\n",
    "def popular_sentiment(tweets_file, senti_file):\n",
    "    tweetsList = tweet_sentiments(tweets_file, senti_file)\n",
    "\n",
    "    sentimentList = []\n",
    "    retweetedNumList = []\n",
    "    # x - get every sentiment number, and save into list\n",
    "    # y - get every retweets number, and save into list\n",
    "    for tweetDict in tweetsList:\n",
    "        sentimentList.append(tweetDict.get('sentiment'))\n",
    "        retweetedNumList.append(tweetDict.get('retweet_count'))\n",
    "\n",
    "    # corrcoef(x, y)\n",
    "    x = np.array(sentimentList)\n",
    "    y = np.array(retweetedNumList)\n",
    "\n",
    "    return np.corrcoef(x, y)"
   ]
  },
  {
   "cell_type": "code",
   "execution_count": 29,
   "id": "c43eb6c7",
   "metadata": {},
   "outputs": [
    {
     "data": {
      "text/plain": [
       "array([[1.        , 0.01530874],\n",
       "       [0.01530874, 1.        ]])"
      ]
     },
     "execution_count": 29,
     "metadata": {},
     "output_type": "execute_result"
    }
   ],
   "source": [
    "popular_sentiment(twitter_stream_breakfast_file, sentiment_file)"
   ]
  },
  {
   "cell_type": "code",
   "execution_count": 30,
   "id": "d23466db",
   "metadata": {},
   "outputs": [
    {
     "data": {
      "text/plain": [
       "array([[1.        , 0.04176552],\n",
       "       [0.04176552, 1.        ]])"
      ]
     },
     "execution_count": 30,
     "metadata": {},
     "output_type": "execute_result"
    }
   ],
   "source": [
    "popular_sentiment(twitter_stream_lunch_file, sentiment_file)"
   ]
  },
  {
   "cell_type": "code",
   "execution_count": 31,
   "id": "eeee3f6e",
   "metadata": {},
   "outputs": [
    {
     "data": {
      "text/plain": [
       "array([[1.        , 0.15551894],\n",
       "       [0.15551894, 1.        ]])"
      ]
     },
     "execution_count": 31,
     "metadata": {},
     "output_type": "execute_result"
    }
   ],
   "source": [
    "popular_sentiment(twitter_stream_dinner_file, sentiment_file)"
   ]
  },
  {
   "cell_type": "markdown",
   "id": "fd437235",
   "metadata": {},
   "source": [
    "#### It seems the answer is yes related to this topic? And it shows that there is more correlation among \"dinner\" tweets than \"lunch\" and \"breakfast\" tweets."
   ]
  },
  {
   "cell_type": "markdown",
   "id": "d4b199ff",
   "metadata": {},
   "source": [
    "# PART 4 - Data Visualization"
   ]
  },
  {
   "cell_type": "markdown",
   "id": "1d111e14",
   "metadata": {},
   "source": [
    "## 4A - Write all the processed data into a csv file"
   ]
  },
  {
   "cell_type": "code",
   "execution_count": 32,
   "id": "afef473e",
   "metadata": {},
   "outputs": [],
   "source": [
    "headers = ['created_at', 'text', 'retweet_count', 'favorite_count', 'user.screen_name', 'entities.hashtags[i].text', 'sentiment', 'search_term', 'senti_ratio']"
   ]
  },
  {
   "cell_type": "code",
   "execution_count": 33,
   "id": "b54c68a0",
   "metadata": {},
   "outputs": [],
   "source": [
    "# write the processed tweets data into a csv file.\n",
    "def export_to_csv(filename, list_of_tweet_objects, headers):\n",
    "    with open(filename, \"w\", encoding='utf-8', newline='') as file: \n",
    "        csv_writer = DictWriter(file, fieldnames = headers)\n",
    "        csv_writer.writeheader()\n",
    "        for obj in list_of_tweet_objects:\n",
    "            csv_writer.writerow(obj)"
   ]
  },
  {
   "cell_type": "code",
   "execution_count": 34,
   "id": "5e1e584a",
   "metadata": {},
   "outputs": [
    {
     "name": "stdout",
     "output_type": "stream",
     "text": [
      "E:\\jupyter_files_save\\DAMG_6105\\Twitter_Sentiment_Analysis/exported_csv/breakfast.csv\n"
     ]
    }
   ],
   "source": [
    "csv_location = location + '/exported_csv'\n",
    "breakfast_filename = csv_location + '/breakfast.csv'\n",
    "lunch_filename = csv_location + '/lunch.csv'\n",
    "dinner_filename = csv_location + '/dinner.csv'\n",
    "print(breakfast_filename)"
   ]
  },
  {
   "cell_type": "markdown",
   "id": "5e7b3ca8",
   "metadata": {},
   "source": [
    "## 4B - Attach search_term and sentiment ratio to the objects"
   ]
  },
  {
   "cell_type": "code",
   "execution_count": 35,
   "id": "5fbff04d",
   "metadata": {},
   "outputs": [],
   "source": [
    "def attach_search_senti_ratio(list_of_tweet_objects, term, totalscore):\n",
    "    for obj in list_of_tweet_objects:\n",
    "        obj['search_term'] = term\n",
    "        obj['senti_ratio'] = obj['sentiment'] / totalscore"
   ]
  },
  {
   "cell_type": "code",
   "execution_count": 36,
   "id": "5e567b58",
   "metadata": {},
   "outputs": [],
   "source": [
    "attach_search_senti_ratio(list_of_breakfast_objects, \"breakfast\", popular_sentiment(twitter_stream_breakfast_file, sentiment_file)[1])\n",
    "export_to_csv(breakfast_filename, list_of_breakfast_objects, headers)"
   ]
  },
  {
   "cell_type": "code",
   "execution_count": 37,
   "id": "efa83b83",
   "metadata": {},
   "outputs": [],
   "source": [
    "attach_search_senti_ratio(list_of_lunch_objects, \"lunch\", popular_sentiment(twitter_stream_lunch_file, sentiment_file)[1])\n",
    "export_to_csv(lunch_filename, list_of_lunch_objects, headers)"
   ]
  },
  {
   "cell_type": "code",
   "execution_count": 38,
   "id": "e77a0ff9",
   "metadata": {},
   "outputs": [],
   "source": [
    "attach_search_senti_ratio(list_of_dinner_objects, \"dinner\", popular_sentiment(twitter_stream_dinner_file, sentiment_file)[1])\n",
    "export_to_csv(dinner_filename, list_of_dinner_objects, headers)"
   ]
  },
  {
   "cell_type": "markdown",
   "id": "27b148fa",
   "metadata": {},
   "source": [
    "## 4C - Create suitable dataframes with Pandas"
   ]
  },
  {
   "cell_type": "code",
   "execution_count": 39,
   "id": "577ed2f8",
   "metadata": {
    "scrolled": true
   },
   "outputs": [
    {
     "data": {
      "text/plain": [
       "(300, 9)"
      ]
     },
     "execution_count": 39,
     "metadata": {},
     "output_type": "execute_result"
    }
   ],
   "source": [
    "df_1 = pd.read_csv(breakfast_filename)\n",
    "df_2 = pd.read_csv(lunch_filename)\n",
    "df_3 = pd.read_csv(dinner_filename)\n",
    "df_list = [df_1,df_2, df_3]\n",
    "merged_df = pd.concat(df_list, axis = 0)\n",
    "merged_df.shape"
   ]
  },
  {
   "cell_type": "code",
   "execution_count": 40,
   "id": "0cb49c52",
   "metadata": {},
   "outputs": [
    {
     "data": {
      "text/html": [
       "<div>\n",
       "<style scoped>\n",
       "    .dataframe tbody tr th:only-of-type {\n",
       "        vertical-align: middle;\n",
       "    }\n",
       "\n",
       "    .dataframe tbody tr th {\n",
       "        vertical-align: top;\n",
       "    }\n",
       "\n",
       "    .dataframe thead th {\n",
       "        text-align: right;\n",
       "    }\n",
       "</style>\n",
       "<table border=\"1\" class=\"dataframe\">\n",
       "  <thead>\n",
       "    <tr style=\"text-align: right;\">\n",
       "      <th></th>\n",
       "      <th>created_at</th>\n",
       "      <th>text</th>\n",
       "      <th>retweet_count</th>\n",
       "      <th>favorite_count</th>\n",
       "      <th>user.screen_name</th>\n",
       "      <th>entities.hashtags[i].text</th>\n",
       "      <th>sentiment</th>\n",
       "      <th>search_term</th>\n",
       "      <th>senti_ratio</th>\n",
       "    </tr>\n",
       "  </thead>\n",
       "  <tbody>\n",
       "    <tr>\n",
       "      <th>0</th>\n",
       "      <td>Thu Dec 09 23:26:38 +0000 2021</td>\n",
       "      <td>rt @himacomfort: look at the way this cutie su...</td>\n",
       "      <td>67</td>\n",
       "      <td>0</td>\n",
       "      <td>NaruHinaHeart</td>\n",
       "      <td>[]</td>\n",
       "      <td>0.0</td>\n",
       "      <td>breakfast</td>\n",
       "      <td>[0. 0.]</td>\n",
       "    </tr>\n",
       "    <tr>\n",
       "      <th>1</th>\n",
       "      <td>Thu Dec 09 23:44:42 +0000 2021</td>\n",
       "      <td>@supreeeme that’s what i’m having for dinner! ...</td>\n",
       "      <td>0</td>\n",
       "      <td>0</td>\n",
       "      <td>LOVESHANNIE87</td>\n",
       "      <td>[]</td>\n",
       "      <td>0.0</td>\n",
       "      <td>breakfast</td>\n",
       "      <td>[0. 0.]</td>\n",
       "    </tr>\n",
       "    <tr>\n",
       "      <th>2</th>\n",
       "      <td>Thu Dec 09 23:44:42 +0000 2021</td>\n",
       "      <td>@apeach_here don't skip your breakfast, be hap...</td>\n",
       "      <td>0</td>\n",
       "      <td>0</td>\n",
       "      <td>onyourwntr</td>\n",
       "      <td>[]</td>\n",
       "      <td>6.0</td>\n",
       "      <td>breakfast</td>\n",
       "      <td>[391.9328567   6.       ]</td>\n",
       "    </tr>\n",
       "    <tr>\n",
       "      <th>3</th>\n",
       "      <td>Thu Dec 09 23:44:39 +0000 2021</td>\n",
       "      <td>@nauudoyiee don't skip your breakfast and have...</td>\n",
       "      <td>0</td>\n",
       "      <td>0</td>\n",
       "      <td>Naaajefff</td>\n",
       "      <td>[]</td>\n",
       "      <td>3.0</td>\n",
       "      <td>breakfast</td>\n",
       "      <td>[195.96642835   3.        ]</td>\n",
       "    </tr>\n",
       "    <tr>\n",
       "      <th>4</th>\n",
       "      <td>Thu Dec 09 23:44:39 +0000 2021</td>\n",
       "      <td>rt @lovisdeli: crepes for brunch, yes, please!...</td>\n",
       "      <td>1</td>\n",
       "      <td>0</td>\n",
       "      <td>CalabasasAlive</td>\n",
       "      <td>['food', 'foodie', 'foodlover', 'lunch', 'dinn...</td>\n",
       "      <td>2.0</td>\n",
       "      <td>breakfast</td>\n",
       "      <td>[130.64428557   2.        ]</td>\n",
       "    </tr>\n",
       "  </tbody>\n",
       "</table>\n",
       "</div>"
      ],
      "text/plain": [
       "                       created_at  \\\n",
       "0  Thu Dec 09 23:26:38 +0000 2021   \n",
       "1  Thu Dec 09 23:44:42 +0000 2021   \n",
       "2  Thu Dec 09 23:44:42 +0000 2021   \n",
       "3  Thu Dec 09 23:44:39 +0000 2021   \n",
       "4  Thu Dec 09 23:44:39 +0000 2021   \n",
       "\n",
       "                                                text  retweet_count  \\\n",
       "0  rt @himacomfort: look at the way this cutie su...             67   \n",
       "1  @supreeeme that’s what i’m having for dinner! ...              0   \n",
       "2  @apeach_here don't skip your breakfast, be hap...              0   \n",
       "3  @nauudoyiee don't skip your breakfast and have...              0   \n",
       "4  rt @lovisdeli: crepes for brunch, yes, please!...              1   \n",
       "\n",
       "   favorite_count user.screen_name  \\\n",
       "0               0    NaruHinaHeart   \n",
       "1               0    LOVESHANNIE87   \n",
       "2               0       onyourwntr   \n",
       "3               0        Naaajefff   \n",
       "4               0   CalabasasAlive   \n",
       "\n",
       "                           entities.hashtags[i].text  sentiment search_term  \\\n",
       "0                                                 []        0.0   breakfast   \n",
       "1                                                 []        0.0   breakfast   \n",
       "2                                                 []        6.0   breakfast   \n",
       "3                                                 []        3.0   breakfast   \n",
       "4  ['food', 'foodie', 'foodlover', 'lunch', 'dinn...        2.0   breakfast   \n",
       "\n",
       "                   senti_ratio  \n",
       "0                      [0. 0.]  \n",
       "1                      [0. 0.]  \n",
       "2    [391.9328567   6.       ]  \n",
       "3  [195.96642835   3.        ]  \n",
       "4  [130.64428557   2.        ]  "
      ]
     },
     "execution_count": 40,
     "metadata": {},
     "output_type": "execute_result"
    }
   ],
   "source": [
    "merged_df.head()"
   ]
  },
  {
   "cell_type": "markdown",
   "id": "6bfb993b",
   "metadata": {},
   "source": [
    "## 4D - Visualize data with Bokeh"
   ]
  },
  {
   "cell_type": "code",
   "execution_count": 41,
   "id": "b472efa3",
   "metadata": {},
   "outputs": [],
   "source": [
    "# using Bokeh:\n",
    "# source = ColumnDataSource(data=merged_df)\n",
    "# p = figure()\n",
    "# p.circle(x='senti_ratio', y='sentiment', source=source)\n",
    "# show(p)\n",
    "SEARCH_TERMS = sorted(merged_df.search_term.unique())\n",
    "MARKERS = ['hex', 'circle_x', 'triangle']\n",
    "p = figure(title = \"Correlation\", background_fill_color=\"#fafafa\")\n",
    "p.xaxis.axis_label = 'Sentiment'\n",
    "p.yaxis.axis_label = 'senti_ratio'\n",
    "p.scatter(\"sentiment\", \"retweet_count\", source=merged_df,\n",
    "          legend_group=\"search_term\", fill_alpha=0.4, size=12,\n",
    "          marker=factor_mark('search_term', MARKERS, SEARCH_TERMS),\n",
    "          color=factor_cmap('search_term', 'Category10_3', SEARCH_TERMS))\n",
    "\n",
    "p.legend.location = \"top_left\"\n",
    "p.legend.title = \"Search Terms\"\n",
    "\n",
    "show(p)"
   ]
  },
  {
   "cell_type": "code",
   "execution_count": 42,
   "id": "eb980c45",
   "metadata": {},
   "outputs": [],
   "source": [
    "tags = []\n",
    "scores = []\n",
    "for hashtag, score in breakfast_hashtag_lists:\n",
    "    tags.append(hashtag)\n",
    "    scores.append(score)\n",
    "\n",
    "p = figure(x_range=tags, width = 2000, height=850, title=\"Hashtags\",\n",
    "           toolbar_location=None, tools=\"\")\n",
    "p.vbar(x=tags, top=scores, width=0.6)\n",
    "\n",
    "p.xgrid.grid_line_color = None\n",
    "p.xgrid.minor_grid_line_width = 100\n",
    "p.ygrid.band_hatch_scale = 100.0\n",
    "p.xaxis.major_label_orientation = 1\n",
    "p.xaxis.major_label_text_font_size = \"16px\"\n",
    "\n",
    "show(p)"
   ]
  }
 ],
 "metadata": {
  "kernelspec": {
   "display_name": "Python 3",
   "language": "python",
   "name": "python3"
  },
  "language_info": {
   "codemirror_mode": {
    "name": "ipython",
    "version": 3
   },
   "file_extension": ".py",
   "mimetype": "text/x-python",
   "name": "python",
   "nbconvert_exporter": "python",
   "pygments_lexer": "ipython3",
   "version": "3.8.8"
  }
 },
 "nbformat": 4,
 "nbformat_minor": 5
}
